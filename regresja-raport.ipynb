{
 "cells": [
  {
   "cell_type": "markdown",
   "metadata": {},
   "source": [
    "Poniższy dokument stanowi opracowanie części projektu dotyczącej analizy modeli regresji. "
   ]
  },
  {
   "cell_type": "code",
   "execution_count": 1,
   "metadata": {},
   "outputs": [],
   "source": [
    "import datetime, warnings\n",
    "import pandas as pd\n",
    "import numpy as np\n",
    "import seaborn as sns\n",
    "import matplotlib as mpl\n",
    "import matplotlib.pyplot as plt\n",
    "import matplotlib.patches as patches\n",
    "from sklearn.preprocessing import StandardScaler\n",
    "from sklearn.model_selection import train_test_split\n",
    "from sklearn.preprocessing import LabelEncoder\n",
    "from sklearn.linear_model import Lasso,LinearRegression,Ridge\n",
    "from sklearn.tree import DecisionTreeRegressor\n",
    "from sklearn.ensemble import RandomForestRegressor,AdaBoostRegressor,BaggingRegressor\n",
    "from sklearn.metrics import mean_absolute_error,mean_squared_error,r2_score\n",
    "from sklearn.model_selection import GridSearchCV"
   ]
  },
  {
   "cell_type": "markdown",
   "metadata": {},
   "source": [
    "# Wczytanie danych "
   ]
  },
  {
   "cell_type": "markdown",
   "metadata": {},
   "source": [
    "Wczytano dane po preprocessingu wykonanym podczas eksploracyjnej analizy danych."
   ]
  },
  {
   "cell_type": "code",
   "execution_count": null,
   "metadata": {},
   "outputs": [],
   "source": [
    "flights=pd.read_csv(\"flights_explored.csv\")"
   ]
  },
  {
   "cell_type": "markdown",
   "metadata": {},
   "source": [
    "# Przygotowanie danych do modeli"
   ]
  },
  {
   "cell_type": "markdown",
   "metadata": {},
   "source": [
    "Przygotowanie wartości kategorycznych"
   ]
  },
  {
   "cell_type": "code",
   "execution_count": null,
   "metadata": {},
   "outputs": [],
   "source": [
    "le = LabelEncoder()"
   ]
  },
  {
   "cell_type": "code",
   "execution_count": null,
   "metadata": {},
   "outputs": [],
   "source": [
    "flights['AIRLINE']= le.fit_transform(flights['AIRLINE'])\n",
    "flights['ORIGIN_AIRPORT'] = le.fit_transform(flights['ORIGIN_AIRPORT'])\n",
    "flights['DESTINATION_AIRPORT'] = le.fit_transform(flights['DESTINATION_AIRPORT'])\n",
    "flights = flights.drop(['SCHEDULED_DEPARTURE','SCHEDULED_ARRIVAL'], axis = 1)"
   ]
  },
  {
   "cell_type": "markdown",
   "metadata": {},
   "source": [
    "## Dane do trenowania modeli bez uwzględniania DEPARTURE_DELAY"
   ]
  },
  {
   "cell_type": "markdown",
   "metadata": {},
   "source": [
    "Zrezygnowano jeszcze z kilku cech, w tym z niewygodnych danych opisujących czasy (wylotu/przylotu)."
   ]
  },
  {
   "cell_type": "code",
   "execution_count": null,
   "metadata": {},
   "outputs": [],
   "source": [
    "X = flights.drop(['ARRIVAL_DELAY','TAIL_NUMBER','DEPARTURE_DELAY','DEPARTURE_TIME','ARRIVAL_TIME'],axis = 1)\n",
    "X.info()"
   ]
  },
  {
   "cell_type": "markdown",
   "metadata": {},
   "source": [
    "Cechą wynikową jest opóźnienie po przylocie."
   ]
  },
  {
   "cell_type": "code",
   "execution_count": null,
   "metadata": {},
   "outputs": [],
   "source": [
    "y = flights['ARRIVAL_DELAY']\n",
    "y.head()"
   ]
  },
  {
   "cell_type": "code",
   "execution_count": null,
   "metadata": {},
   "outputs": [],
   "source": [
    "X_train,X_test,y_train,y_test = train_test_split(X,y,test_size=0.3,random_state = 2)"
   ]
  },
  {
   "cell_type": "code",
   "execution_count": null,
   "metadata": {},
   "outputs": [],
   "source": [
    "sc1=StandardScaler()\n",
    "X_train_sc=sc1.fit_transform(X_train)\n",
    "X_test_sc=sc1.transform(X_test)"
   ]
  },
  {
   "cell_type": "markdown",
   "metadata": {},
   "source": [
    "## Dane do końcowego testu wybranego modelu uwzględniając DEPARTURE_DELAY"
   ]
  },
  {
   "cell_type": "code",
   "execution_count": null,
   "metadata": {},
   "outputs": [],
   "source": [
    "'''\n",
    "flights=pd.read_csv(\"flights_explored.csv\")\n",
    "flights['AIRLINE']= le.fit_transform(flights['AIRLINE'])\n",
    "flights['ORIGIN_AIRPORT'] = le.fit_transform(flights['ORIGIN_AIRPORT'])\n",
    "flights['DESTINATION_AIRPORT'] = le.fit_transform(flights['DESTINATION_AIRPORT'])\n",
    "flights = flights.drop(['SCHEDULED_DEPARTURE','SCHEDULED_ARRIVAL'], axis = 1)\n",
    "'''"
   ]
  },
  {
   "cell_type": "code",
   "execution_count": null,
   "metadata": {},
   "outputs": [],
   "source": [
    "X_d = flights.drop(['ARRIVAL_DELAY','TAIL_NUMBER','DEPARTURE_TIME','ARRIVAL_TIME'],axis = 1)\n",
    "y_d = flights['ARRIVAL_DELAY']"
   ]
  },
  {
   "cell_type": "code",
   "execution_count": null,
   "metadata": {},
   "outputs": [],
   "source": [
    "X_train_d,X_test_d,y_train_d,y_test_d = train_test_split(X_d,y_d,test_size=0.3,random_state = 2)"
   ]
  },
  {
   "cell_type": "code",
   "execution_count": null,
   "metadata": {},
   "outputs": [],
   "source": [
    "sc1=StandardScaler()\n",
    "X_train_sc_d=sc1.fit_transform(X_train_d)\n",
    "X_test_sc_d=sc1.transform(X_test_d)"
   ]
  },
  {
   "cell_type": "markdown",
   "metadata": {},
   "source": [
    "# Regularyzacja -- dobór parametru dla modelu Lasso i Ridge regresji"
   ]
  },
  {
   "cell_type": "markdown",
   "metadata": {},
   "source": [
    "Wykorzystaliśmy parametr cv=2 GridSearcgCV, aby na niespacjalnie wydolnym sprzęcie w sensownym czasie rozprawić się z danymi."
   ]
  },
  {
   "cell_type": "code",
   "execution_count": null,
   "metadata": {},
   "outputs": [],
   "source": [
    "def regularyzacja(model,param):\n",
    "    model_regressor=GridSearchCV(Lasso(),param,scoring='neg_mean_squared_error',cv=2,verbose=10)\n",
    "    model_regressor.fit(X_train_sc,y_train)\n",
    "    print(model_regressor.best_params_)\n",
    "    print(model_regressor.best_score_)"
   ]
  },
  {
   "cell_type": "code",
   "execution_count": null,
   "metadata": {},
   "outputs": [],
   "source": [
    "param={'alpha':[1e-20,1e-8,1e-3,10]}\n",
    "regularyzacja(Ridge(),param)"
   ]
  },
  {
   "cell_type": "code",
   "execution_count": null,
   "metadata": {},
   "outputs": [],
   "source": [
    "regularyzacja(Lasso(),param)"
   ]
  },
  {
   "cell_type": "markdown",
   "metadata": {},
   "source": [
    "W naszym przypadku zauważyliśmy, że im mniejszy hiperparametr, tym lepsze osiągane wyniki (aczkolwiek nadal mało satysfakcjonujące)"
   ]
  },
  {
   "cell_type": "markdown",
   "metadata": {},
   "source": [
    "# Przygotowanie modeli"
   ]
  },
  {
   "cell_type": "code",
   "execution_count": null,
   "metadata": {},
   "outputs": [],
   "source": [
    "Las = Lasso(alpha=1e-20)\n",
    "LinR = LinearRegression()\n",
    "Rid = Ridge(alpha=1e-20)\n",
    "Boost_Lin = AdaBoostRegressor(base_estimator=LinR,random_state=2)\n",
    "Boost_las = AdaBoostRegressor(base_estimator=Las,random_state=2)\n",
    "Boost_rid = AdaBoostRegressor(base_estimator=Rid,random_state=2)\n",
    "Bg_Lin = BaggingRegressor(base_estimator=LinR,random_state=2)\n",
    "Bg_las = BaggingRegressor(base_estimator=Las,random_state=2)\n",
    "Bg_rid = BaggingRegressor(base_estimator=Rid,random_state=2)"
   ]
  },
  {
   "cell_type": "markdown",
   "metadata": {},
   "source": [
    "# Podstawowe regressory"
   ]
  },
  {
   "cell_type": "code",
   "execution_count": null,
   "metadata": {},
   "outputs": [],
   "source": [
    "def errors_for_regressor(X_train,X_test,y_train,models,names):\n",
    "    for model, name in zip(models,names):\n",
    "        model1 = model.fit(X_train,y_train)\n",
    "        Y_predict=model1.predict(X_test)\n",
    "        print(name)\n",
    "        print('Mean Absolute Error:', mean_absolute_error(y_test, Y_predict))  \n",
    "        print('Mean Squared Error:', mean_squared_error(y_test, Y_predict))  \n",
    "        print('Root Mean Squared Error:', np.sqrt(mean_squared_error(y_test, Y_predict)))\n",
    "        print('R2 : ',r2_score(y_test, Y_predict))\n",
    "        print()\n",
    "        print(name)\n",
    "        plt.scatter(y_test, Y_predict)\n",
    "        plt.title(\"Model Analysis\")\n",
    "        plt.xlabel(\"Real Value\")\n",
    "        plt.ylabel(\"Prediction\")\n",
    "        plt.show()"
   ]
  },
  {
   "cell_type": "code",
   "execution_count": null,
   "metadata": {},
   "outputs": [],
   "source": [
    "models=[Las,LinR,Rid]\n",
    "names=['Lasso','Linear','Ridge']"
   ]
  },
  {
   "cell_type": "markdown",
   "metadata": {},
   "source": [
    "Analiza błędów dla modeli uwzględniających regularyzację. W poniższych przykładach nie wzięliśmy pod uwagę cechy DEPARTURE_DELAY."
   ]
  },
  {
   "cell_type": "markdown",
   "metadata": {},
   "source": [
    "Do porównania jakości modeli predykcyjnych zastosowaliśmy następujące metryki:\n",
    "- MAE\n",
    "- MSE\n",
    "- RMSE\n",
    "- R2"
   ]
  },
  {
   "cell_type": "code",
   "execution_count": null,
   "metadata": {
    "scrolled": false
   },
   "outputs": [],
   "source": [
    "errors_for_regressor(X_train_sc,X_test_sc,y_train,models,names)"
   ]
  },
  {
   "cell_type": "markdown",
   "metadata": {},
   "source": [
    "W poniższych przykładach wzięliśmy pod uwagę cechę DEPARTURE_DELAY."
   ]
  },
  {
   "cell_type": "code",
   "execution_count": null,
   "metadata": {},
   "outputs": [],
   "source": [
    "errors_for_regressor(X_train_sc_d,X_test_sc_d,y_train_d,models,names)"
   ]
  },
  {
   "cell_type": "markdown",
   "metadata": {},
   "source": [
    "Czego się można było spodziewać, przy użyciu mocno skorelowanej z wyjściem cechy DEPARTURE_DELAY, dokładność modelu drastycznie poprawiła się."
   ]
  },
  {
   "cell_type": "markdown",
   "metadata": {},
   "source": [
    "# Boosting & bagging"
   ]
  },
  {
   "cell_type": "markdown",
   "metadata": {},
   "source": [
    "Spróbowaliśmy również przeprowadzić boosting i bagging podstawowych modeli regresyjnych, ponownie porównaliśmy wyniki otrzymane przy uwzględnieniu mocno skorelowanej cechy DEPARTURE_DELAY oraz bez niej."
   ]
  },
  {
   "cell_type": "markdown",
   "metadata": {},
   "source": [
    "## Boosting"
   ]
  },
  {
   "cell_type": "markdown",
   "metadata": {},
   "source": [
    "Spróbowaliśmy skorzystać z AdaBoost"
   ]
  },
  {
   "cell_type": "code",
   "execution_count": null,
   "metadata": {},
   "outputs": [],
   "source": [
    "errors_for_regressor(X_train_sc,X_test_sc,y_train,[Boost_Lin,Boost_las,Boost_rid],['Boosted Linear','Boosted Lasso','Boosted Ridge'])"
   ]
  },
  {
   "cell_type": "code",
   "execution_count": null,
   "metadata": {},
   "outputs": [],
   "source": [
    "errors_for_regressor(X_train_sc_d,X_test_sc_d,y_train_d,[Boost_Lin,Boost_las,Boost_rid],['Boosted Linear','Boosted Lasso','Boosted Ridge'])"
   ]
  },
  {
   "cell_type": "markdown",
   "metadata": {},
   "source": [
    "Widoczne jest pogorszenie wyników regresji. Próba zastosowania AdaBoost zakończyła się porażką."
   ]
  },
  {
   "cell_type": "markdown",
   "metadata": {},
   "source": [
    "# Bagging"
   ]
  },
  {
   "cell_type": "code",
   "execution_count": null,
   "metadata": {},
   "outputs": [],
   "source": [
    "errors_for_regressor(X_train_sc,X_test_sc,y_train,[Bg_Lin,Bg_las,Bg_rid],['Boosted Linear','Boosted Lasso','Boosted Ridge'])"
   ]
  },
  {
   "cell_type": "code",
   "execution_count": null,
   "metadata": {},
   "outputs": [],
   "source": [
    "errors_for_regressor(X_train_sc_d,X_test_sc_d,y_train_d,[Bg_Lin,Bg_las,Bg_rid],['Bagged Linear','Bagged Lasso','Bagged Ridge'])"
   ]
  },
  {
   "cell_type": "markdown",
   "metadata": {},
   "source": [
    "# Wnioski "
   ]
  },
  {
   "cell_type": "markdown",
   "metadata": {},
   "source": [
    "* Do problemu stworzenia modelu regresyjnego podeszliśmy z założeniem wykorzystania koncepcji poznanych na zajęciach laboratoryjnych i wykładzie. Tymi technikami są regresja, regularyzacja, walidacja krzyżowa, boosting oraz bagging, metryki oceny jakości modelu. W zależności od tego czy korzystaliśmy w naszych predykcjach z jednej bardzo mocno skorelowanej z wyjściem cechy, można stwierdzić że odnieśliśmy spektakularny sukces czy ponieśliśmy sromotną porażkę. Na pewno naszym osobistym sukcesem jest fakt, że przećwiczyliśmy wiele technik poznanych na zajęciach.\n",
    "* Zastosowanie regularyzacji znacznie poprawiło wyniki w niektórych analizowanych przypadkach (np. zastosowania Lasso Regression).\n",
    "* Zastosowane metod boostingu oraz baggingu w przypadku naszych modeli bez zastosowania mocno skorelowanej cechy nie było pomocne. W przypadku korzystania z mocno skorelowanej cechy, zazobserowaliśmy znaczną poprawę metryk oceny jakości modelu.\n",
    "* Wielokrotnie prace trwały długo ze względu na słabą wydajność prywatnych maszyn. Pomijając czas pracy maszyn, najdłużej w całym projekcie zastanawialiśmy się nad doborem cech i oczyszczeniem danych.\n",
    "* Porównując wyniki użytych metryk oceny skuteczności modelu możemy stwierdzić, że w obu przypakach z uwzlędnianiem lub nie, cechę DEPARTURE_DELAY możemy stwierdzić że do postowionej hipotezy najbardziej się nadają podstawowe modele regresyjne (czyli Lasso, Ridge z regularyzacją oraz Liniowa regresja). "
   ]
  },
  {
   "cell_type": "markdown",
   "metadata": {},
   "source": [
    "Wnioski do części projektu będącej analizą eksplorayjną zawarto w notatniku z tą analizą."
   ]
  },
  {
   "cell_type": "code",
   "execution_count": null,
   "metadata": {},
   "outputs": [],
   "source": []
  }
 ],
 "metadata": {
  "kernelspec": {
   "display_name": "med",
   "language": "python",
   "name": "med"
  },
  "language_info": {
   "codemirror_mode": {
    "name": "ipython",
    "version": 3
   },
   "file_extension": ".py",
   "mimetype": "text/x-python",
   "name": "python",
   "nbconvert_exporter": "python",
   "pygments_lexer": "ipython3",
   "version": "3.6.8"
  }
 },
 "nbformat": 4,
 "nbformat_minor": 2
}
