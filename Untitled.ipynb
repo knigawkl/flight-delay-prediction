{
 "cells": [
  {
   "cell_type": "code",
   "execution_count": 6,
   "metadata": {},
   "outputs": [],
   "source": [
    "import datetime, warnings\n",
    "import pandas as pd\n",
    "import numpy as np\n",
    "import seaborn as sns\n",
    "import matplotlib as mpl\n",
    "import matplotlib.pyplot as plt\n",
    "import matplotlib.patches as patches\n",
    "from sklearn.preprocessing import StandardScaler\n",
    "from sklearn.model_selection import train_test_split\n",
    "from sklearn.preprocessing import LabelEncoder\n",
    "from sklearn.linear_model import Lasso,LinearRegression,Ridge\n",
    "from sklearn.tree import DecisionTreeRegressor\n",
    "from sklearn.ensemble import RandomForestRegressor,AdaBoostRegressor,BaggingRegressor\n",
    "from sklearn.metrics import mean_absolute_error,mean_squared_error,r2_score"
   ]
  },
  {
   "cell_type": "code",
   "execution_count": 3,
   "metadata": {},
   "outputs": [],
   "source": [
    "flights=pd.read_csv(\"flights_explored.csv\")"
   ]
  },
  {
   "cell_type": "code",
   "execution_count": 4,
   "metadata": {},
   "outputs": [
    {
     "data": {
      "text/html": [
       "<div>\n",
       "<style scoped>\n",
       "    .dataframe tbody tr th:only-of-type {\n",
       "        vertical-align: middle;\n",
       "    }\n",
       "\n",
       "    .dataframe tbody tr th {\n",
       "        vertical-align: top;\n",
       "    }\n",
       "\n",
       "    .dataframe thead th {\n",
       "        text-align: right;\n",
       "    }\n",
       "</style>\n",
       "<table border=\"1\" class=\"dataframe\">\n",
       "  <thead>\n",
       "    <tr style=\"text-align: right;\">\n",
       "      <th></th>\n",
       "      <th>MONTH</th>\n",
       "      <th>DAY_OF_WEEK</th>\n",
       "      <th>TAIL_NUMBER</th>\n",
       "      <th>ORIGIN_AIRPORT</th>\n",
       "      <th>DESTINATION_AIRPORT</th>\n",
       "      <th>SCHEDULED_DEPARTURE</th>\n",
       "      <th>DEPARTURE_TIME</th>\n",
       "      <th>DEPARTURE_DELAY</th>\n",
       "      <th>SCHEDULED_TIME</th>\n",
       "      <th>ELAPSED_TIME</th>\n",
       "      <th>AIR_TIME</th>\n",
       "      <th>DISTANCE</th>\n",
       "      <th>SCHEDULED_ARRIVAL</th>\n",
       "      <th>ARRIVAL_TIME</th>\n",
       "      <th>ARRIVAL_DELAY</th>\n",
       "      <th>AIRLINE</th>\n",
       "      <th>DELAYED</th>\n",
       "    </tr>\n",
       "  </thead>\n",
       "  <tbody>\n",
       "    <tr>\n",
       "      <th>0</th>\n",
       "      <td>1</td>\n",
       "      <td>4</td>\n",
       "      <td>N407AS</td>\n",
       "      <td>ANC</td>\n",
       "      <td>SEA</td>\n",
       "      <td>00:05:00</td>\n",
       "      <td>23:54:00</td>\n",
       "      <td>-11.0</td>\n",
       "      <td>205.0</td>\n",
       "      <td>194.0</td>\n",
       "      <td>169.0</td>\n",
       "      <td>1448</td>\n",
       "      <td>04:30:00</td>\n",
       "      <td>04:08:00</td>\n",
       "      <td>-22.0</td>\n",
       "      <td>Alaska Airlines Inc.</td>\n",
       "      <td>False</td>\n",
       "    </tr>\n",
       "    <tr>\n",
       "      <th>1</th>\n",
       "      <td>1</td>\n",
       "      <td>4</td>\n",
       "      <td>N527AS</td>\n",
       "      <td>SEA</td>\n",
       "      <td>ANC</td>\n",
       "      <td>00:25:00</td>\n",
       "      <td>00:24:00</td>\n",
       "      <td>-1.0</td>\n",
       "      <td>235.0</td>\n",
       "      <td>215.0</td>\n",
       "      <td>199.0</td>\n",
       "      <td>1448</td>\n",
       "      <td>03:20:00</td>\n",
       "      <td>02:59:00</td>\n",
       "      <td>-21.0</td>\n",
       "      <td>Alaska Airlines Inc.</td>\n",
       "      <td>False</td>\n",
       "    </tr>\n",
       "    <tr>\n",
       "      <th>2</th>\n",
       "      <td>1</td>\n",
       "      <td>4</td>\n",
       "      <td>N309AS</td>\n",
       "      <td>ANC</td>\n",
       "      <td>SEA</td>\n",
       "      <td>00:45:00</td>\n",
       "      <td>00:41:00</td>\n",
       "      <td>-4.0</td>\n",
       "      <td>204.0</td>\n",
       "      <td>194.0</td>\n",
       "      <td>173.0</td>\n",
       "      <td>1448</td>\n",
       "      <td>05:09:00</td>\n",
       "      <td>04:55:00</td>\n",
       "      <td>-14.0</td>\n",
       "      <td>Alaska Airlines Inc.</td>\n",
       "      <td>False</td>\n",
       "    </tr>\n",
       "    <tr>\n",
       "      <th>3</th>\n",
       "      <td>1</td>\n",
       "      <td>4</td>\n",
       "      <td>N413AS</td>\n",
       "      <td>ANC</td>\n",
       "      <td>PDX</td>\n",
       "      <td>00:50:00</td>\n",
       "      <td>00:46:00</td>\n",
       "      <td>-4.0</td>\n",
       "      <td>215.0</td>\n",
       "      <td>201.0</td>\n",
       "      <td>187.0</td>\n",
       "      <td>1542</td>\n",
       "      <td>05:25:00</td>\n",
       "      <td>05:07:00</td>\n",
       "      <td>-18.0</td>\n",
       "      <td>Alaska Airlines Inc.</td>\n",
       "      <td>False</td>\n",
       "    </tr>\n",
       "    <tr>\n",
       "      <th>4</th>\n",
       "      <td>1</td>\n",
       "      <td>4</td>\n",
       "      <td>N457AS</td>\n",
       "      <td>FAI</td>\n",
       "      <td>SEA</td>\n",
       "      <td>01:15:00</td>\n",
       "      <td>01:07:00</td>\n",
       "      <td>-8.0</td>\n",
       "      <td>213.0</td>\n",
       "      <td>218.0</td>\n",
       "      <td>186.0</td>\n",
       "      <td>1533</td>\n",
       "      <td>05:48:00</td>\n",
       "      <td>05:45:00</td>\n",
       "      <td>-3.0</td>\n",
       "      <td>Alaska Airlines Inc.</td>\n",
       "      <td>False</td>\n",
       "    </tr>\n",
       "  </tbody>\n",
       "</table>\n",
       "</div>"
      ],
      "text/plain": [
       "   MONTH  DAY_OF_WEEK TAIL_NUMBER ORIGIN_AIRPORT DESTINATION_AIRPORT  \\\n",
       "0      1            4      N407AS            ANC                 SEA   \n",
       "1      1            4      N527AS            SEA                 ANC   \n",
       "2      1            4      N309AS            ANC                 SEA   \n",
       "3      1            4      N413AS            ANC                 PDX   \n",
       "4      1            4      N457AS            FAI                 SEA   \n",
       "\n",
       "  SCHEDULED_DEPARTURE DEPARTURE_TIME  DEPARTURE_DELAY  SCHEDULED_TIME  \\\n",
       "0            00:05:00       23:54:00            -11.0           205.0   \n",
       "1            00:25:00       00:24:00             -1.0           235.0   \n",
       "2            00:45:00       00:41:00             -4.0           204.0   \n",
       "3            00:50:00       00:46:00             -4.0           215.0   \n",
       "4            01:15:00       01:07:00             -8.0           213.0   \n",
       "\n",
       "   ELAPSED_TIME  AIR_TIME  DISTANCE SCHEDULED_ARRIVAL ARRIVAL_TIME  \\\n",
       "0         194.0     169.0      1448          04:30:00     04:08:00   \n",
       "1         215.0     199.0      1448          03:20:00     02:59:00   \n",
       "2         194.0     173.0      1448          05:09:00     04:55:00   \n",
       "3         201.0     187.0      1542          05:25:00     05:07:00   \n",
       "4         218.0     186.0      1533          05:48:00     05:45:00   \n",
       "\n",
       "   ARRIVAL_DELAY               AIRLINE  DELAYED  \n",
       "0          -22.0  Alaska Airlines Inc.    False  \n",
       "1          -21.0  Alaska Airlines Inc.    False  \n",
       "2          -14.0  Alaska Airlines Inc.    False  \n",
       "3          -18.0  Alaska Airlines Inc.    False  \n",
       "4           -3.0  Alaska Airlines Inc.    False  "
      ]
     },
     "execution_count": 4,
     "metadata": {},
     "output_type": "execute_result"
    }
   ],
   "source": [
    "flights.head()"
   ]
  },
  {
   "cell_type": "code",
   "execution_count": 7,
   "metadata": {},
   "outputs": [],
   "source": [
    "Las = Lasso()\n",
    "LinR = LinearRegression()\n",
    "Rid = Ridge()\n",
    "Rfc = RandomForestRegressor(random_state=2)\n",
    "Dtc = DecisionTreeRegressor(random_state = 2)\n",
    "Boost_Lin = AdaBoostRegressor(base_estimator=LinR,random_state=2)\n",
    "Boost_las = AdaBoostRegressor(base_estimator=Las,random_state=2)\n",
    "Boost_rid = AdaBoostRegressor(base_estimator=Rid,random_state=2)\n",
    "Bg_Lin = BaggingRegressor(base_estimator=LinR,random_state=2)\n",
    "Bg_las = BaggingRegressor(base_estimator=Las,random_state=2)\n",
    "Bg_rid = BaggingRegressor(base_estimator=Rid,random_state=2)"
   ]
  },
  {
   "cell_type": "code",
   "execution_count": 9,
   "metadata": {},
   "outputs": [],
   "source": [
    "le = LabelEncoder()"
   ]
  },
  {
   "cell_type": "code",
   "execution_count": 12,
   "metadata": {},
   "outputs": [],
   "source": [
    "flights['AIRLINE']= le.fit_transform(flights['AIRLINE'])\n",
    "flights['ORIGIN_AIRPORT'] = le.fit_transform(flights['ORIGIN_AIRPORT'])\n",
    "flights['DESTINATION_AIRPORT'] = le.fit_transform(flights['DESTINATION_AIRPORT'])\n",
    "#flights['DAY'] = le.fit_transform(flights['DAY'])"
   ]
  },
  {
   "cell_type": "code",
   "execution_count": 13,
   "metadata": {},
   "outputs": [
    {
     "name": "stdout",
     "output_type": "stream",
     "text": [
      "<class 'pandas.core.frame.DataFrame'>\n",
      "RangeIndex: 3026542 entries, 0 to 3026541\n",
      "Data columns (total 17 columns):\n",
      "MONTH                  int64\n",
      "DAY_OF_WEEK            int64\n",
      "TAIL_NUMBER            object\n",
      "ORIGIN_AIRPORT         int64\n",
      "DESTINATION_AIRPORT    int64\n",
      "SCHEDULED_DEPARTURE    object\n",
      "DEPARTURE_TIME         object\n",
      "DEPARTURE_DELAY        float64\n",
      "SCHEDULED_TIME         float64\n",
      "ELAPSED_TIME           float64\n",
      "AIR_TIME               float64\n",
      "DISTANCE               int64\n",
      "SCHEDULED_ARRIVAL      object\n",
      "ARRIVAL_TIME           object\n",
      "ARRIVAL_DELAY          float64\n",
      "AIRLINE                int64\n",
      "DELAYED                bool\n",
      "dtypes: bool(1), float64(5), int64(6), object(5)\n",
      "memory usage: 372.3+ MB\n"
     ]
    }
   ],
   "source": [
    "flights.info()"
   ]
  },
  {
   "cell_type": "code",
   "execution_count": 15,
   "metadata": {},
   "outputs": [],
   "source": [
    "flights = flights.drop(['SCHEDULED_DEPARTURE','SCHEDULED_ARRIVAL'], axis = 1)"
   ]
  },
  {
   "cell_type": "code",
   "execution_count": 21,
   "metadata": {},
   "outputs": [
    {
     "name": "stdout",
     "output_type": "stream",
     "text": [
      "<class 'pandas.core.frame.DataFrame'>\n",
      "RangeIndex: 3026542 entries, 0 to 3026541\n",
      "Data columns (total 15 columns):\n",
      "MONTH                  int64\n",
      "DAY_OF_WEEK            int64\n",
      "TAIL_NUMBER            object\n",
      "ORIGIN_AIRPORT         int64\n",
      "DESTINATION_AIRPORT    int64\n",
      "DEPARTURE_TIME         object\n",
      "DEPARTURE_DELAY        float64\n",
      "SCHEDULED_TIME         float64\n",
      "ELAPSED_TIME           float64\n",
      "AIR_TIME               float64\n",
      "DISTANCE               int64\n",
      "ARRIVAL_TIME           object\n",
      "ARRIVAL_DELAY          float64\n",
      "AIRLINE                int64\n",
      "DELAYED                bool\n",
      "dtypes: bool(1), float64(5), int64(6), object(3)\n",
      "memory usage: 326.2+ MB\n"
     ]
    }
   ],
   "source": [
    "flights.info()"
   ]
  },
  {
   "cell_type": "code",
   "execution_count": 33,
   "metadata": {},
   "outputs": [
    {
     "data": {
      "text/html": [
       "<div>\n",
       "<style scoped>\n",
       "    .dataframe tbody tr th:only-of-type {\n",
       "        vertical-align: middle;\n",
       "    }\n",
       "\n",
       "    .dataframe tbody tr th {\n",
       "        vertical-align: top;\n",
       "    }\n",
       "\n",
       "    .dataframe thead th {\n",
       "        text-align: right;\n",
       "    }\n",
       "</style>\n",
       "<table border=\"1\" class=\"dataframe\">\n",
       "  <thead>\n",
       "    <tr style=\"text-align: right;\">\n",
       "      <th></th>\n",
       "      <th>MONTH</th>\n",
       "      <th>DAY_OF_WEEK</th>\n",
       "      <th>ORIGIN_AIRPORT</th>\n",
       "      <th>DESTINATION_AIRPORT</th>\n",
       "      <th>SCHEDULED_TIME</th>\n",
       "      <th>ELAPSED_TIME</th>\n",
       "      <th>AIR_TIME</th>\n",
       "      <th>DISTANCE</th>\n",
       "      <th>AIRLINE</th>\n",
       "      <th>DELAYED</th>\n",
       "    </tr>\n",
       "  </thead>\n",
       "  <tbody>\n",
       "    <tr>\n",
       "      <th>0</th>\n",
       "      <td>1</td>\n",
       "      <td>4</td>\n",
       "      <td>313</td>\n",
       "      <td>571</td>\n",
       "      <td>205.0</td>\n",
       "      <td>194.0</td>\n",
       "      <td>169.0</td>\n",
       "      <td>1448</td>\n",
       "      <td>0</td>\n",
       "      <td>False</td>\n",
       "    </tr>\n",
       "    <tr>\n",
       "      <th>1</th>\n",
       "      <td>1</td>\n",
       "      <td>4</td>\n",
       "      <td>573</td>\n",
       "      <td>311</td>\n",
       "      <td>235.0</td>\n",
       "      <td>215.0</td>\n",
       "      <td>199.0</td>\n",
       "      <td>1448</td>\n",
       "      <td>0</td>\n",
       "      <td>False</td>\n",
       "    </tr>\n",
       "    <tr>\n",
       "      <th>2</th>\n",
       "      <td>1</td>\n",
       "      <td>4</td>\n",
       "      <td>313</td>\n",
       "      <td>571</td>\n",
       "      <td>204.0</td>\n",
       "      <td>194.0</td>\n",
       "      <td>173.0</td>\n",
       "      <td>1448</td>\n",
       "      <td>0</td>\n",
       "      <td>False</td>\n",
       "    </tr>\n",
       "    <tr>\n",
       "      <th>3</th>\n",
       "      <td>1</td>\n",
       "      <td>4</td>\n",
       "      <td>313</td>\n",
       "      <td>530</td>\n",
       "      <td>215.0</td>\n",
       "      <td>201.0</td>\n",
       "      <td>187.0</td>\n",
       "      <td>1542</td>\n",
       "      <td>0</td>\n",
       "      <td>False</td>\n",
       "    </tr>\n",
       "    <tr>\n",
       "      <th>4</th>\n",
       "      <td>1</td>\n",
       "      <td>4</td>\n",
       "      <td>404</td>\n",
       "      <td>571</td>\n",
       "      <td>213.0</td>\n",
       "      <td>218.0</td>\n",
       "      <td>186.0</td>\n",
       "      <td>1533</td>\n",
       "      <td>0</td>\n",
       "      <td>False</td>\n",
       "    </tr>\n",
       "  </tbody>\n",
       "</table>\n",
       "</div>"
      ],
      "text/plain": [
       "   MONTH  DAY_OF_WEEK  ORIGIN_AIRPORT  DESTINATION_AIRPORT  SCHEDULED_TIME  \\\n",
       "0      1            4             313                  571           205.0   \n",
       "1      1            4             573                  311           235.0   \n",
       "2      1            4             313                  571           204.0   \n",
       "3      1            4             313                  530           215.0   \n",
       "4      1            4             404                  571           213.0   \n",
       "\n",
       "   ELAPSED_TIME  AIR_TIME  DISTANCE  AIRLINE  DELAYED  \n",
       "0         194.0     169.0      1448        0    False  \n",
       "1         215.0     199.0      1448        0    False  \n",
       "2         194.0     173.0      1448        0    False  \n",
       "3         201.0     187.0      1542        0    False  \n",
       "4         218.0     186.0      1533        0    False  "
      ]
     },
     "execution_count": 33,
     "metadata": {},
     "output_type": "execute_result"
    }
   ],
   "source": [
    "X = flights.drop(['ARRIVAL_DELAY','DEPARTURE_DELAY','TAIL_NUMBER','DEPARTURE_TIME','ARRIVAL_TIME'],axis = 1)\n",
    "X.head()"
   ]
  },
  {
   "cell_type": "code",
   "execution_count": 23,
   "metadata": {},
   "outputs": [
    {
     "data": {
      "text/plain": [
       "0   -22.0\n",
       "1   -21.0\n",
       "2   -14.0\n",
       "3   -18.0\n",
       "4    -3.0\n",
       "Name: ARRIVAL_DELAY, dtype: float64"
      ]
     },
     "execution_count": 23,
     "metadata": {},
     "output_type": "execute_result"
    }
   ],
   "source": [
    "y = flights['ARRIVAL_DELAY']\n",
    "y.head()"
   ]
  },
  {
   "cell_type": "code",
   "execution_count": 34,
   "metadata": {},
   "outputs": [],
   "source": [
    "X_train,X_test,y_train,y_test = train_test_split(X,y,test_size=0.3,random_state = 2)"
   ]
  },
  {
   "cell_type": "code",
   "execution_count": 35,
   "metadata": {},
   "outputs": [
    {
     "name": "stderr",
     "output_type": "stream",
     "text": [
      "/home/ligerd/mypythno/local/lib/python2.7/site-packages/sklearn/preprocessing/data.py:645: DataConversionWarning: Data with input dtype bool, int64, float64 were all converted to float64 by StandardScaler.\n",
      "  return self.partial_fit(X, y)\n",
      "/home/ligerd/mypythno/local/lib/python2.7/site-packages/sklearn/base.py:464: DataConversionWarning: Data with input dtype bool, int64, float64 were all converted to float64 by StandardScaler.\n",
      "  return self.fit(X, **fit_params).transform(X)\n",
      "/home/ligerd/mypythno/lib/python2.7/site-packages/ipykernel_launcher.py:3: DataConversionWarning: Data with input dtype bool, int64, float64 were all converted to float64 by StandardScaler.\n",
      "  This is separate from the ipykernel package so we can avoid doing imports until\n"
     ]
    }
   ],
   "source": [
    "sc1=StandardScaler()\n",
    "X_train_sc=sc1.fit_transform(X_train)\n",
    "X_test_sc=sc1.transform(X_test)"
   ]
  },
  {
   "cell_type": "code",
   "execution_count": null,
   "metadata": {
    "scrolled": false
   },
   "outputs": [
    {
     "name": "stdout",
     "output_type": "stream",
     "text": [
      "Lasso\n",
      "('Mean Absolute Error:', 15.995184895030734)\n",
      "('Mean Squared Error:', 1152.1865327013152)\n",
      "('Root Mean Squared Error:', 33.943873271936944)\n",
      "('R2 : ', 0.2983182998896847)\n",
      "()\n",
      "Linear Regression\n",
      "('Mean Absolute Error:', 15.283811713379887)\n",
      "('Mean Squared Error:', 1127.2523119569842)\n",
      "('Root Mean Squared Error:', 33.574578358588276)\n",
      "('R2 : ', 0.3135032425237465)\n",
      "()\n",
      "Ridge\n",
      "('Mean Absolute Error:', 15.28382683932877)\n",
      "('Mean Squared Error:', 1127.2522844988994)\n",
      "('Root Mean Squared Error:', 33.57457794967644)\n",
      "('R2 : ', 0.31350325924572253)\n",
      "()\n",
      "Random forest Regressor\n",
      "('Mean Absolute Error:', 18.265640560243092)\n",
      "('Mean Squared Error:', 2187.7717014092723)\n",
      "('Root Mean Squared Error:', 46.77362185472996)\n",
      "('R2 : ', -0.3323531592571123)\n",
      "()\n"
     ]
    },
    {
     "name": "stderr",
     "output_type": "stream",
     "text": [
      "/home/ligerd/mypythno/local/lib/python2.7/site-packages/sklearn/ensemble/forest.py:246: FutureWarning: The default value of n_estimators will change from 10 in version 0.20 to 100 in 0.22.\n",
      "  \"10 in version 0.20 to 100 in 0.22.\", FutureWarning)\n"
     ]
    }
   ],
   "source": [
    "\n",
    "\n",
    "for model, name in zip([Las,LinR,Rid,Dtc,Rfc,Boost_Lin,Boost_las,Boost_rid,Bg_Lin,Bg_las,Bg_rid], \n",
    "     ['Lasso','Linear Regression','Ridge','Random forest Regressor','Decision Tree Regressor','Boosted Linear',\n",
    "      'Boosted Lasso','Boosted Ridge','Bagged Linear','Bagged Lasso','Bagged Ridge']):\n",
    "    model1 = model.fit(X_train_sc,y_train)\n",
    "    Y_predict=model1.predict(X_test_sc)\n",
    "    print(name)\n",
    "    print('Mean Absolute Error:', mean_absolute_error(y_test, Y_predict))  \n",
    "    print('Mean Squared Error:', mean_squared_error(y_test, Y_predict))  \n",
    "    print('Root Mean Squared Error:', np.sqrt(mean_squared_error(y_test, Y_predict)))\n",
    "    print('R2 : ',r2_score(y_test, Y_predict))\n",
    "    print()\n",
    "\n"
   ]
  },
  {
   "cell_type": "code",
   "execution_count": null,
   "metadata": {},
   "outputs": [],
   "source": []
  }
 ],
 "metadata": {
  "kernelspec": {
   "display_name": "Python 3",
   "language": "python",
   "name": "python3"
  },
  "language_info": {
   "codemirror_mode": {
    "name": "ipython",
    "version": 2
   },
   "file_extension": ".py",
   "mimetype": "text/x-python",
   "name": "python",
   "nbconvert_exporter": "python",
   "pygments_lexer": "ipython2",
   "version": "2.7.15+"
  }
 },
 "nbformat": 4,
 "nbformat_minor": 2
}
