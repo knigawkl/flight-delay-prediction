{
 "cells": [
  {
   "cell_type": "markdown",
   "metadata": {
    "collapsed": true,
    "pycharm": {
     "is_executing": false
    }
   },
   "source": [
    "# Predicting flight delays"
   ]
  },
  {
   "cell_type": "markdown",
   "metadata": {},
   "source": [
    "# Eksploracja danych"
   ]
  },
  {
   "cell_type": "markdown",
   "metadata": {},
   "source": [
    "Celem projektu jest przeanalizowanie danych z biura U.S. Department of Transportation’s (DOT) Bureau of Transportation Statistics które śledzi terminowość lotów krajowych obsługiwanych przez dużych przewoźników lotniczych. Na podstawie przeanalizowanych danych chcęmy stworzyć model odpowiadający na pytanie: Którą linią lotniczą powinieneś polecieć, aby uniknąć znacznych opóźnień? Predykcja opóźnień lotów."
   ]
  },
  {
   "cell_type": "markdown",
   "metadata": {},
   "source": [
    "Zbiór daych zawiera podsumowanie informacji o liczbie lotów na czas, opóźnionych, odwołanych i przekierowanych. Informacja dotyczy roku 2015. Zbiór daych będzie pobrany ze strony: https://www.kaggle.com/usdot/flight-delays?fbclid=IwAR35RJkExG8_KySniI_W9RCrHTdkreTkNSuXfoiRBvpDhxuqT0ol4L-gjCk#flights.csv"
   ]
  },
  {
   "cell_type": "markdown",
   "metadata": {},
   "source": [
    "Zbiór danych zawarty jest w trzech plikach csv: airlines.csv, airports.csv oraz flights.csv. Macierz zawarta w pliku airlines.csv zawiera jedynie dwie kolumny -- w pierwszej z nich przedstawiono identyfiaktor linii lotniczej, a w drugiej pełną nazwę tej linii. W pliku airports.csv przedstawiono informacje o pojawiających się w danych lotniskach -- mamy tu już do czynienia z siedmioma kolumnami, opisującymi podstawowe dane o portach lotniczych. Naszym głównym przedmiotem analizy będzie plik flights.csv, który w 31 kolumnach gromadzi dane o lotach."
   ]
  },
  {
   "cell_type": "code",
   "execution_count": 1,
   "metadata": {
    "pycharm": {
     "is_executing": false
    }
   },
   "outputs": [],
   "source": [
    "import datetime, warnings\n",
    "import pandas as pd\n",
    "import numpy as np\n",
    "import seaborn as sns\n",
    "import matplotlib as mpl\n",
    "import matplotlib.pyplot as plt\n",
    "import matplotlib.patches as patches\n"
   ]
  },
  {
   "cell_type": "markdown",
   "metadata": {},
   "source": [
    "## Wczytanie danych"
   ]
  },
  {
   "cell_type": "code",
   "execution_count": 2,
   "metadata": {},
   "outputs": [
    {
     "name": "stderr",
     "output_type": "stream",
     "text": [
      "/home/ligerd/mypythno/local/lib/python2.7/site-packages/IPython/core/interactiveshell.py:2714: DtypeWarning: Columns (7,8) have mixed types. Specify dtype option on import or set low_memory=False.\n",
      "  interactivity=interactivity, compiler=compiler, result=result)\n"
     ]
    }
   ],
   "source": [
    "flights=pd.read_csv(\"flights.csv\")"
   ]
  },
  {
   "cell_type": "markdown",
   "metadata": {},
   "source": [
    "Sprawdźmy obecne rozmiary ramki danych"
   ]
  },
  {
   "cell_type": "code",
   "execution_count": 3,
   "metadata": {},
   "outputs": [
    {
     "data": {
      "text/plain": [
       "(5819079, 31)"
      ]
     },
     "execution_count": 3,
     "metadata": {},
     "output_type": "execute_result"
    }
   ],
   "source": [
    "flights.shape"
   ]
  },
  {
   "cell_type": "markdown",
   "metadata": {},
   "source": [
    "W zwiazku z tym, że pracujemy z tak wieloma kolumnami, polecenie head() biblioteki pandas nie pokazywałoby części środkowych kolumn. Z tego powodu wywołujemy poniższe polecenie."
   ]
  },
  {
   "cell_type": "code",
   "execution_count": 4,
   "metadata": {},
   "outputs": [],
   "source": [
    "pd.set_option('display.max_columns', None)"
   ]
  },
  {
   "cell_type": "markdown",
   "metadata": {},
   "source": [
    "## Obcięcie danych "
   ]
  },
  {
   "cell_type": "markdown",
   "metadata": {},
   "source": [
    "Z powodu ilości danych utrudniającej szybką pracę na własnych maszynach roboczych, zdecydowano się na zmniejszenie objętości danych. W tym celu zdecydowano się na wzięcie z każdego dnia pierwszych 100000 rekordów."
   ]
  },
  {
   "cell_type": "code",
   "execution_count": 5,
   "metadata": {
    "scrolled": false
   },
   "outputs": [],
   "source": [
    "flights=flights.groupby('DAY').head(100000).reset_index(drop=True)"
   ]
  },
  {
   "cell_type": "markdown",
   "metadata": {},
   "source": [
    "## Wygląd uciętej ramki danych"
   ]
  },
  {
   "cell_type": "code",
   "execution_count": 6,
   "metadata": {},
   "outputs": [
    {
     "data": {
      "text/plain": [
       "(3100000, 31)"
      ]
     },
     "execution_count": 6,
     "metadata": {},
     "output_type": "execute_result"
    }
   ],
   "source": [
    "flights.shape"
   ]
  },
  {
   "cell_type": "markdown",
   "metadata": {},
   "source": [
    "Jak widać, ponad dwukrotnie zmniejszono liczbę rekordów w zbiorze."
   ]
  },
  {
   "cell_type": "markdown",
   "metadata": {},
   "source": [
    "Spójrzmy na ostatnie rekordy w ramce danych"
   ]
  },
  {
   "cell_type": "code",
   "execution_count": 7,
   "metadata": {},
   "outputs": [
    {
     "data": {
      "text/html": [
       "<div>\n",
       "<style scoped>\n",
       "    .dataframe tbody tr th:only-of-type {\n",
       "        vertical-align: middle;\n",
       "    }\n",
       "\n",
       "    .dataframe tbody tr th {\n",
       "        vertical-align: top;\n",
       "    }\n",
       "\n",
       "    .dataframe thead th {\n",
       "        text-align: right;\n",
       "    }\n",
       "</style>\n",
       "<table border=\"1\" class=\"dataframe\">\n",
       "  <thead>\n",
       "    <tr style=\"text-align: right;\">\n",
       "      <th></th>\n",
       "      <th>YEAR</th>\n",
       "      <th>MONTH</th>\n",
       "      <th>DAY</th>\n",
       "      <th>DAY_OF_WEEK</th>\n",
       "      <th>AIRLINE</th>\n",
       "      <th>FLIGHT_NUMBER</th>\n",
       "      <th>TAIL_NUMBER</th>\n",
       "      <th>ORIGIN_AIRPORT</th>\n",
       "      <th>DESTINATION_AIRPORT</th>\n",
       "      <th>SCHEDULED_DEPARTURE</th>\n",
       "      <th>DEPARTURE_TIME</th>\n",
       "      <th>DEPARTURE_DELAY</th>\n",
       "      <th>TAXI_OUT</th>\n",
       "      <th>WHEELS_OFF</th>\n",
       "      <th>SCHEDULED_TIME</th>\n",
       "      <th>ELAPSED_TIME</th>\n",
       "      <th>AIR_TIME</th>\n",
       "      <th>DISTANCE</th>\n",
       "      <th>WHEELS_ON</th>\n",
       "      <th>TAXI_IN</th>\n",
       "      <th>SCHEDULED_ARRIVAL</th>\n",
       "      <th>ARRIVAL_TIME</th>\n",
       "      <th>ARRIVAL_DELAY</th>\n",
       "      <th>DIVERTED</th>\n",
       "      <th>CANCELLED</th>\n",
       "      <th>CANCELLATION_REASON</th>\n",
       "      <th>AIR_SYSTEM_DELAY</th>\n",
       "      <th>SECURITY_DELAY</th>\n",
       "      <th>AIRLINE_DELAY</th>\n",
       "      <th>LATE_AIRCRAFT_DELAY</th>\n",
       "      <th>WEATHER_DELAY</th>\n",
       "    </tr>\n",
       "  </thead>\n",
       "  <tbody>\n",
       "    <tr>\n",
       "      <th>3099995</th>\n",
       "      <td>2015</td>\n",
       "      <td>12</td>\n",
       "      <td>31</td>\n",
       "      <td>4</td>\n",
       "      <td>MQ</td>\n",
       "      <td>3391</td>\n",
       "      <td>N818MQ</td>\n",
       "      <td>ORD</td>\n",
       "      <td>FWA</td>\n",
       "      <td>1545</td>\n",
       "      <td>1547.0</td>\n",
       "      <td>2.0</td>\n",
       "      <td>14.0</td>\n",
       "      <td>1601.0</td>\n",
       "      <td>57.0</td>\n",
       "      <td>49.0</td>\n",
       "      <td>31.0</td>\n",
       "      <td>157</td>\n",
       "      <td>1732.0</td>\n",
       "      <td>4.0</td>\n",
       "      <td>1742</td>\n",
       "      <td>1736.0</td>\n",
       "      <td>-6.0</td>\n",
       "      <td>0</td>\n",
       "      <td>0</td>\n",
       "      <td>NaN</td>\n",
       "      <td>NaN</td>\n",
       "      <td>NaN</td>\n",
       "      <td>NaN</td>\n",
       "      <td>NaN</td>\n",
       "      <td>NaN</td>\n",
       "    </tr>\n",
       "    <tr>\n",
       "      <th>3099996</th>\n",
       "      <td>2015</td>\n",
       "      <td>12</td>\n",
       "      <td>31</td>\n",
       "      <td>4</td>\n",
       "      <td>MQ</td>\n",
       "      <td>3485</td>\n",
       "      <td>N660MQ</td>\n",
       "      <td>OMA</td>\n",
       "      <td>ORD</td>\n",
       "      <td>1545</td>\n",
       "      <td>1536.0</td>\n",
       "      <td>-9.0</td>\n",
       "      <td>12.0</td>\n",
       "      <td>1548.0</td>\n",
       "      <td>102.0</td>\n",
       "      <td>88.0</td>\n",
       "      <td>70.0</td>\n",
       "      <td>416</td>\n",
       "      <td>1658.0</td>\n",
       "      <td>6.0</td>\n",
       "      <td>1727</td>\n",
       "      <td>1704.0</td>\n",
       "      <td>-23.0</td>\n",
       "      <td>0</td>\n",
       "      <td>0</td>\n",
       "      <td>NaN</td>\n",
       "      <td>NaN</td>\n",
       "      <td>NaN</td>\n",
       "      <td>NaN</td>\n",
       "      <td>NaN</td>\n",
       "      <td>NaN</td>\n",
       "    </tr>\n",
       "    <tr>\n",
       "      <th>3099997</th>\n",
       "      <td>2015</td>\n",
       "      <td>12</td>\n",
       "      <td>31</td>\n",
       "      <td>4</td>\n",
       "      <td>OO</td>\n",
       "      <td>4460</td>\n",
       "      <td>N431SW</td>\n",
       "      <td>DTW</td>\n",
       "      <td>MBS</td>\n",
       "      <td>1545</td>\n",
       "      <td>1542.0</td>\n",
       "      <td>-3.0</td>\n",
       "      <td>36.0</td>\n",
       "      <td>1618.0</td>\n",
       "      <td>54.0</td>\n",
       "      <td>64.0</td>\n",
       "      <td>23.0</td>\n",
       "      <td>98</td>\n",
       "      <td>1641.0</td>\n",
       "      <td>5.0</td>\n",
       "      <td>1639</td>\n",
       "      <td>1646.0</td>\n",
       "      <td>7.0</td>\n",
       "      <td>0</td>\n",
       "      <td>0</td>\n",
       "      <td>NaN</td>\n",
       "      <td>NaN</td>\n",
       "      <td>NaN</td>\n",
       "      <td>NaN</td>\n",
       "      <td>NaN</td>\n",
       "      <td>NaN</td>\n",
       "    </tr>\n",
       "    <tr>\n",
       "      <th>3099998</th>\n",
       "      <td>2015</td>\n",
       "      <td>12</td>\n",
       "      <td>31</td>\n",
       "      <td>4</td>\n",
       "      <td>OO</td>\n",
       "      <td>4474</td>\n",
       "      <td>N632SK</td>\n",
       "      <td>MSP</td>\n",
       "      <td>GRB</td>\n",
       "      <td>1545</td>\n",
       "      <td>1542.0</td>\n",
       "      <td>-3.0</td>\n",
       "      <td>16.0</td>\n",
       "      <td>1558.0</td>\n",
       "      <td>71.0</td>\n",
       "      <td>64.0</td>\n",
       "      <td>41.0</td>\n",
       "      <td>252</td>\n",
       "      <td>1639.0</td>\n",
       "      <td>7.0</td>\n",
       "      <td>1656</td>\n",
       "      <td>1646.0</td>\n",
       "      <td>-10.0</td>\n",
       "      <td>0</td>\n",
       "      <td>0</td>\n",
       "      <td>NaN</td>\n",
       "      <td>NaN</td>\n",
       "      <td>NaN</td>\n",
       "      <td>NaN</td>\n",
       "      <td>NaN</td>\n",
       "      <td>NaN</td>\n",
       "    </tr>\n",
       "    <tr>\n",
       "      <th>3099999</th>\n",
       "      <td>2015</td>\n",
       "      <td>12</td>\n",
       "      <td>31</td>\n",
       "      <td>4</td>\n",
       "      <td>OO</td>\n",
       "      <td>4781</td>\n",
       "      <td>N433SW</td>\n",
       "      <td>DTW</td>\n",
       "      <td>LAN</td>\n",
       "      <td>1545</td>\n",
       "      <td>1544.0</td>\n",
       "      <td>-1.0</td>\n",
       "      <td>46.0</td>\n",
       "      <td>1630.0</td>\n",
       "      <td>49.0</td>\n",
       "      <td>69.0</td>\n",
       "      <td>19.0</td>\n",
       "      <td>74</td>\n",
       "      <td>1649.0</td>\n",
       "      <td>4.0</td>\n",
       "      <td>1634</td>\n",
       "      <td>1653.0</td>\n",
       "      <td>19.0</td>\n",
       "      <td>0</td>\n",
       "      <td>0</td>\n",
       "      <td>NaN</td>\n",
       "      <td>19.0</td>\n",
       "      <td>0.0</td>\n",
       "      <td>0.0</td>\n",
       "      <td>0.0</td>\n",
       "      <td>0.0</td>\n",
       "    </tr>\n",
       "  </tbody>\n",
       "</table>\n",
       "</div>"
      ],
      "text/plain": [
       "         YEAR  MONTH  DAY  DAY_OF_WEEK AIRLINE  FLIGHT_NUMBER TAIL_NUMBER  \\\n",
       "3099995  2015     12   31            4      MQ           3391      N818MQ   \n",
       "3099996  2015     12   31            4      MQ           3485      N660MQ   \n",
       "3099997  2015     12   31            4      OO           4460      N431SW   \n",
       "3099998  2015     12   31            4      OO           4474      N632SK   \n",
       "3099999  2015     12   31            4      OO           4781      N433SW   \n",
       "\n",
       "        ORIGIN_AIRPORT DESTINATION_AIRPORT  SCHEDULED_DEPARTURE  \\\n",
       "3099995            ORD                 FWA                 1545   \n",
       "3099996            OMA                 ORD                 1545   \n",
       "3099997            DTW                 MBS                 1545   \n",
       "3099998            MSP                 GRB                 1545   \n",
       "3099999            DTW                 LAN                 1545   \n",
       "\n",
       "         DEPARTURE_TIME  DEPARTURE_DELAY  TAXI_OUT  WHEELS_OFF  \\\n",
       "3099995          1547.0              2.0      14.0      1601.0   \n",
       "3099996          1536.0             -9.0      12.0      1548.0   \n",
       "3099997          1542.0             -3.0      36.0      1618.0   \n",
       "3099998          1542.0             -3.0      16.0      1558.0   \n",
       "3099999          1544.0             -1.0      46.0      1630.0   \n",
       "\n",
       "         SCHEDULED_TIME  ELAPSED_TIME  AIR_TIME  DISTANCE  WHEELS_ON  TAXI_IN  \\\n",
       "3099995            57.0          49.0      31.0       157     1732.0      4.0   \n",
       "3099996           102.0          88.0      70.0       416     1658.0      6.0   \n",
       "3099997            54.0          64.0      23.0        98     1641.0      5.0   \n",
       "3099998            71.0          64.0      41.0       252     1639.0      7.0   \n",
       "3099999            49.0          69.0      19.0        74     1649.0      4.0   \n",
       "\n",
       "         SCHEDULED_ARRIVAL  ARRIVAL_TIME  ARRIVAL_DELAY  DIVERTED  CANCELLED  \\\n",
       "3099995               1742        1736.0           -6.0         0          0   \n",
       "3099996               1727        1704.0          -23.0         0          0   \n",
       "3099997               1639        1646.0            7.0         0          0   \n",
       "3099998               1656        1646.0          -10.0         0          0   \n",
       "3099999               1634        1653.0           19.0         0          0   \n",
       "\n",
       "        CANCELLATION_REASON  AIR_SYSTEM_DELAY  SECURITY_DELAY  AIRLINE_DELAY  \\\n",
       "3099995                 NaN               NaN             NaN            NaN   \n",
       "3099996                 NaN               NaN             NaN            NaN   \n",
       "3099997                 NaN               NaN             NaN            NaN   \n",
       "3099998                 NaN               NaN             NaN            NaN   \n",
       "3099999                 NaN              19.0             0.0            0.0   \n",
       "\n",
       "         LATE_AIRCRAFT_DELAY  WEATHER_DELAY  \n",
       "3099995                  NaN            NaN  \n",
       "3099996                  NaN            NaN  \n",
       "3099997                  NaN            NaN  \n",
       "3099998                  NaN            NaN  \n",
       "3099999                  0.0            0.0  "
      ]
     },
     "execution_count": 7,
     "metadata": {},
     "output_type": "execute_result"
    }
   ],
   "source": [
    "flights.tail()"
   ]
  },
  {
   "cell_type": "markdown",
   "metadata": {},
   "source": [
    "Ostatnie pięć rekordów posiada puste wartości w tych samych kolumnach, co pierwsze pięć wierszy. Sprawdźmy, co opisują poszczególne kolumny. Zbiór danych na stronie Kaggle zawierał opis każdej z nich."
   ]
  },
  {
   "cell_type": "markdown",
   "metadata": {},
   "source": [
    "## Opis column \n",
    "YEAR -- Year of the Flight Trip\n",
    "\n",
    "MONTH -- Month of the Flight Trip\n",
    "\n",
    "DAY -- Day of the Flight Trip\n",
    "\n",
    "DAY_OF_WEEK -- Day of week of the Flight Trip\n",
    "\n",
    "AIRLINE -- Airline Identifier\n",
    "\n",
    "FLIGHT_NUMBER -- Flight Identifier\n",
    "\n",
    "TAIL_NUMBER -- Aircraft Identifier\n",
    "\n",
    "ORIGIN_AIRPORT -- Starting Airport\n",
    "\n",
    "DESTINATION_AIRPORT -- Destination Airport\n",
    "\n",
    "SCHEDULED_DEPARTURE -- Planned Departure Time\n",
    "\n",
    "DEPARTURE_TIME -- WHEEL_OFF - TAXI_OUT\n",
    "\n",
    "DEPARTURE_DELAY -- Total Delay on Departure\n",
    "\n",
    "TAXI_OUT -- The time duration elapsed between departure from the origin airport gate and wheels off\n",
    "\n",
    "WHEELS_OFF -- The time point that the aircraft's wheels leave the ground\n",
    "\n",
    "SCHEDULED_TIME -- Planned time amount needed for the flight trip\n",
    "\n",
    "ELAPSED_TIME -- AIR_TIME+TAXI_IN+TAXI_OUT\n",
    "\n",
    "AIR_TIME -- The time duration between wheels_off and wheels_on time\n",
    "\n",
    "DISTANCE -- Distance between two airports\n",
    "\n",
    "WHEELS_ON -- The time point that the aircraft's wheels touch on the ground\n",
    "\n",
    "TAXI_IN -- The time duration elapsed between wheels-on and gate arrival at the destination airport\n",
    "\n",
    "SCHEDULED_ARRIVAL -- Planned arrival time\n",
    "\n",
    "ARRIVAL_TIME -- WHEELS_ON+TAXI_IN\n",
    "\n",
    "ARRIVAL_DELAY -- ARRIVAL_TIME-SCHEDULED_ARRIVAL\n",
    "\n",
    "DIVERTED -- Aircraft landed on airport that out of schedule\n",
    "\n",
    "CANCELLED -- Flight Cancelled (1 = cancelled)\n",
    "\n",
    "CANCELLATION_REASON -- Reason for Cancellation of flight: A - Airline/Carrier; B - Weather; C - National Air System; D - Security\n",
    "\n",
    "AIR_SYSTEM_DELAY Delay -- caused by air system\n",
    "\n",
    "SECURITY_DELAY Delay -- caused by security\n",
    "\n",
    "AIRLINE_DELAY Delay -- caused by the airline\n",
    "\n",
    "LATE_AIRCRAFT_DELAY -- Delay caused by aircraft\n",
    "\n",
    "WEATHER_DELAY Delay -- caused by weather\n"
   ]
  },
  {
   "cell_type": "markdown",
   "metadata": {},
   "source": [
    "Poniżej znajduje się pierwszy przegląd wszystkich atrybutów z uwzględnieniem typów danych"
   ]
  },
  {
   "cell_type": "code",
   "execution_count": 8,
   "metadata": {},
   "outputs": [
    {
     "name": "stdout",
     "output_type": "stream",
     "text": [
      "<class 'pandas.core.frame.DataFrame'>\n",
      "RangeIndex: 3100000 entries, 0 to 3099999\n",
      "Data columns (total 31 columns):\n",
      "YEAR                   int64\n",
      "MONTH                  int64\n",
      "DAY                    int64\n",
      "DAY_OF_WEEK            int64\n",
      "AIRLINE                object\n",
      "FLIGHT_NUMBER          int64\n",
      "TAIL_NUMBER            object\n",
      "ORIGIN_AIRPORT         object\n",
      "DESTINATION_AIRPORT    object\n",
      "SCHEDULED_DEPARTURE    int64\n",
      "DEPARTURE_TIME         float64\n",
      "DEPARTURE_DELAY        float64\n",
      "TAXI_OUT               float64\n",
      "WHEELS_OFF             float64\n",
      "SCHEDULED_TIME         float64\n",
      "ELAPSED_TIME           float64\n",
      "AIR_TIME               float64\n",
      "DISTANCE               int64\n",
      "WHEELS_ON              float64\n",
      "TAXI_IN                float64\n",
      "SCHEDULED_ARRIVAL      int64\n",
      "ARRIVAL_TIME           float64\n",
      "ARRIVAL_DELAY          float64\n",
      "DIVERTED               int64\n",
      "CANCELLED              int64\n",
      "CANCELLATION_REASON    object\n",
      "AIR_SYSTEM_DELAY       float64\n",
      "SECURITY_DELAY         float64\n",
      "AIRLINE_DELAY          float64\n",
      "LATE_AIRCRAFT_DELAY    float64\n",
      "WEATHER_DELAY          float64\n",
      "dtypes: float64(16), int64(10), object(5)\n",
      "memory usage: 733.2+ MB\n"
     ]
    }
   ],
   "source": [
    "flights.info()"
   ]
  },
  {
   "cell_type": "markdown",
   "metadata": {},
   "source": [
    "Zwróćmy szczególną uwagę na kolumnę ARRIVAL_DELAY. Przedstawia ona różnicę między czasem przybyci, a planowym czasem przybycia. Przyjmuje więc wartości ujemne bądź dodatnie, gdyż pasażerowie mogli dotrzeć na lotnisko zarówno po czasie, jak i przed czasem. Wartości obecne w tej kolumnie możemy uznać za czas opóźnienia, czyli wartość, którą chcemy w przyszłości przewidywać."
   ]
  },
  {
   "cell_type": "markdown",
   "metadata": {},
   "source": [
    "## Zakresy wartości\n",
    "Poniżej przedstawiono zwięzłe przedstawienie najbardziej podstawowych miar statystycznych zebranych dla poszczególnych kolumn, przed obróbką danych."
   ]
  },
  {
   "cell_type": "code",
   "execution_count": 9,
   "metadata": {},
   "outputs": [
    {
     "data": {
      "text/html": [
       "<div>\n",
       "<style scoped>\n",
       "    .dataframe tbody tr th:only-of-type {\n",
       "        vertical-align: middle;\n",
       "    }\n",
       "\n",
       "    .dataframe tbody tr th {\n",
       "        vertical-align: top;\n",
       "    }\n",
       "\n",
       "    .dataframe thead th {\n",
       "        text-align: right;\n",
       "    }\n",
       "</style>\n",
       "<table border=\"1\" class=\"dataframe\">\n",
       "  <thead>\n",
       "    <tr style=\"text-align: right;\">\n",
       "      <th></th>\n",
       "      <th>FLIGHT_NUMBER</th>\n",
       "      <th>SCHEDULED_DEPARTURE</th>\n",
       "      <th>DEPARTURE_TIME</th>\n",
       "      <th>DEPARTURE_DELAY</th>\n",
       "      <th>TAXI_OUT</th>\n",
       "      <th>WHEELS_OFF</th>\n",
       "      <th>SCHEDULED_TIME</th>\n",
       "      <th>ELAPSED_TIME</th>\n",
       "      <th>AIR_TIME</th>\n",
       "      <th>DISTANCE</th>\n",
       "      <th>WHEELS_ON</th>\n",
       "      <th>TAXI_IN</th>\n",
       "      <th>SCHEDULED_ARRIVAL</th>\n",
       "      <th>ARRIVAL_TIME</th>\n",
       "      <th>ARRIVAL_DELAY</th>\n",
       "      <th>DIVERTED</th>\n",
       "      <th>CANCELLED</th>\n",
       "      <th>AIR_SYSTEM_DELAY</th>\n",
       "      <th>SECURITY_DELAY</th>\n",
       "      <th>AIRLINE_DELAY</th>\n",
       "      <th>LATE_AIRCRAFT_DELAY</th>\n",
       "      <th>WEATHER_DELAY</th>\n",
       "    </tr>\n",
       "  </thead>\n",
       "  <tbody>\n",
       "    <tr>\n",
       "      <th>count</th>\n",
       "      <td>3.100000e+06</td>\n",
       "      <td>3.100000e+06</td>\n",
       "      <td>3.037620e+06</td>\n",
       "      <td>3.037620e+06</td>\n",
       "      <td>3.035848e+06</td>\n",
       "      <td>3.035848e+06</td>\n",
       "      <td>3.099994e+06</td>\n",
       "      <td>3.026542e+06</td>\n",
       "      <td>3.026542e+06</td>\n",
       "      <td>3.100000e+06</td>\n",
       "      <td>3.033718e+06</td>\n",
       "      <td>3.033718e+06</td>\n",
       "      <td>3.100000e+06</td>\n",
       "      <td>3.033718e+06</td>\n",
       "      <td>3.026542e+06</td>\n",
       "      <td>3.100000e+06</td>\n",
       "      <td>3.100000e+06</td>\n",
       "      <td>604803.000000</td>\n",
       "      <td>604803.000000</td>\n",
       "      <td>604803.000000</td>\n",
       "      <td>604803.000000</td>\n",
       "      <td>604803.000000</td>\n",
       "    </tr>\n",
       "    <tr>\n",
       "      <th>mean</th>\n",
       "      <td>2.198954e+03</td>\n",
       "      <td>1.306733e+03</td>\n",
       "      <td>1.313586e+03</td>\n",
       "      <td>1.014685e+01</td>\n",
       "      <td>1.610943e+01</td>\n",
       "      <td>1.335994e+03</td>\n",
       "      <td>1.413192e+02</td>\n",
       "      <td>1.372243e+02</td>\n",
       "      <td>1.136995e+02</td>\n",
       "      <td>8.189432e+02</td>\n",
       "      <td>1.454218e+03</td>\n",
       "      <td>7.428170e+00</td>\n",
       "      <td>1.477293e+03</td>\n",
       "      <td>1.459485e+03</td>\n",
       "      <td>5.715180e+00</td>\n",
       "      <td>2.829032e-03</td>\n",
       "      <td>2.086710e-02</td>\n",
       "      <td>13.726177</td>\n",
       "      <td>0.060231</td>\n",
       "      <td>18.877441</td>\n",
       "      <td>23.331875</td>\n",
       "      <td>3.187944</td>\n",
       "    </tr>\n",
       "    <tr>\n",
       "      <th>std</th>\n",
       "      <td>1.773991e+03</td>\n",
       "      <td>4.866607e+02</td>\n",
       "      <td>4.998907e+02</td>\n",
       "      <td>3.814342e+01</td>\n",
       "      <td>9.194957e+00</td>\n",
       "      <td>5.010123e+02</td>\n",
       "      <td>7.490822e+01</td>\n",
       "      <td>7.409271e+01</td>\n",
       "      <td>7.208077e+01</td>\n",
       "      <td>6.032394e+02</td>\n",
       "      <td>5.222818e+02</td>\n",
       "      <td>5.736866e+00</td>\n",
       "      <td>5.056739e+02</td>\n",
       "      <td>5.259963e+02</td>\n",
       "      <td>4.041859e+01</td>\n",
       "      <td>5.311337e-02</td>\n",
       "      <td>1.429394e-01</td>\n",
       "      <td>28.029495</td>\n",
       "      <td>1.815045</td>\n",
       "      <td>47.726754</td>\n",
       "      <td>43.011331</td>\n",
       "      <td>21.447738</td>\n",
       "    </tr>\n",
       "    <tr>\n",
       "      <th>min</th>\n",
       "      <td>1.000000e+00</td>\n",
       "      <td>1.000000e+00</td>\n",
       "      <td>1.000000e+00</td>\n",
       "      <td>-6.800000e+01</td>\n",
       "      <td>1.000000e+00</td>\n",
       "      <td>1.000000e+00</td>\n",
       "      <td>1.800000e+01</td>\n",
       "      <td>1.500000e+01</td>\n",
       "      <td>7.000000e+00</td>\n",
       "      <td>2.100000e+01</td>\n",
       "      <td>1.000000e+00</td>\n",
       "      <td>1.000000e+00</td>\n",
       "      <td>1.000000e+00</td>\n",
       "      <td>1.000000e+00</td>\n",
       "      <td>-8.700000e+01</td>\n",
       "      <td>0.000000e+00</td>\n",
       "      <td>0.000000e+00</td>\n",
       "      <td>0.000000</td>\n",
       "      <td>0.000000</td>\n",
       "      <td>0.000000</td>\n",
       "      <td>0.000000</td>\n",
       "      <td>0.000000</td>\n",
       "    </tr>\n",
       "    <tr>\n",
       "      <th>25%</th>\n",
       "      <td>7.360000e+02</td>\n",
       "      <td>9.000000e+02</td>\n",
       "      <td>9.010000e+02</td>\n",
       "      <td>-5.000000e+00</td>\n",
       "      <td>1.100000e+01</td>\n",
       "      <td>9.170000e+02</td>\n",
       "      <td>8.500000e+01</td>\n",
       "      <td>8.300000e+01</td>\n",
       "      <td>6.100000e+01</td>\n",
       "      <td>3.720000e+02</td>\n",
       "      <td>1.040000e+03</td>\n",
       "      <td>4.000000e+00</td>\n",
       "      <td>1.055000e+03</td>\n",
       "      <td>1.044000e+03</td>\n",
       "      <td>-1.300000e+01</td>\n",
       "      <td>0.000000e+00</td>\n",
       "      <td>0.000000e+00</td>\n",
       "      <td>0.000000</td>\n",
       "      <td>0.000000</td>\n",
       "      <td>0.000000</td>\n",
       "      <td>0.000000</td>\n",
       "      <td>0.000000</td>\n",
       "    </tr>\n",
       "    <tr>\n",
       "      <th>50%</th>\n",
       "      <td>1.682000e+03</td>\n",
       "      <td>1.302000e+03</td>\n",
       "      <td>1.309000e+03</td>\n",
       "      <td>-1.000000e+00</td>\n",
       "      <td>1.400000e+01</td>\n",
       "      <td>1.322000e+03</td>\n",
       "      <td>1.230000e+02</td>\n",
       "      <td>1.190000e+02</td>\n",
       "      <td>9.500000e+01</td>\n",
       "      <td>6.490000e+02</td>\n",
       "      <td>1.450000e+03</td>\n",
       "      <td>6.000000e+00</td>\n",
       "      <td>1.500000e+03</td>\n",
       "      <td>1.454000e+03</td>\n",
       "      <td>-4.000000e+00</td>\n",
       "      <td>0.000000e+00</td>\n",
       "      <td>0.000000e+00</td>\n",
       "      <td>2.000000</td>\n",
       "      <td>0.000000</td>\n",
       "      <td>2.000000</td>\n",
       "      <td>3.000000</td>\n",
       "      <td>0.000000</td>\n",
       "    </tr>\n",
       "    <tr>\n",
       "      <th>75%</th>\n",
       "      <td>3.366000e+03</td>\n",
       "      <td>1.720000e+03</td>\n",
       "      <td>1.730000e+03</td>\n",
       "      <td>8.000000e+00</td>\n",
       "      <td>1.900000e+01</td>\n",
       "      <td>1.744000e+03</td>\n",
       "      <td>1.730000e+02</td>\n",
       "      <td>1.690000e+02</td>\n",
       "      <td>1.440000e+02</td>\n",
       "      <td>1.061000e+03</td>\n",
       "      <td>1.903000e+03</td>\n",
       "      <td>9.000000e+00</td>\n",
       "      <td>1.910000e+03</td>\n",
       "      <td>1.908000e+03</td>\n",
       "      <td>9.000000e+00</td>\n",
       "      <td>0.000000e+00</td>\n",
       "      <td>0.000000e+00</td>\n",
       "      <td>18.000000</td>\n",
       "      <td>0.000000</td>\n",
       "      <td>19.000000</td>\n",
       "      <td>29.000000</td>\n",
       "      <td>0.000000</td>\n",
       "    </tr>\n",
       "    <tr>\n",
       "      <th>max</th>\n",
       "      <td>9.794000e+03</td>\n",
       "      <td>2.359000e+03</td>\n",
       "      <td>2.400000e+03</td>\n",
       "      <td>1.988000e+03</td>\n",
       "      <td>2.250000e+02</td>\n",
       "      <td>2.400000e+03</td>\n",
       "      <td>7.180000e+02</td>\n",
       "      <td>7.660000e+02</td>\n",
       "      <td>6.900000e+02</td>\n",
       "      <td>4.983000e+03</td>\n",
       "      <td>2.400000e+03</td>\n",
       "      <td>2.020000e+02</td>\n",
       "      <td>2.400000e+03</td>\n",
       "      <td>2.400000e+03</td>\n",
       "      <td>1.971000e+03</td>\n",
       "      <td>1.000000e+00</td>\n",
       "      <td>1.000000e+00</td>\n",
       "      <td>1101.000000</td>\n",
       "      <td>241.000000</td>\n",
       "      <td>1971.000000</td>\n",
       "      <td>1331.000000</td>\n",
       "      <td>1152.000000</td>\n",
       "    </tr>\n",
       "  </tbody>\n",
       "</table>\n",
       "</div>"
      ],
      "text/plain": [
       "       FLIGHT_NUMBER  SCHEDULED_DEPARTURE  DEPARTURE_TIME  DEPARTURE_DELAY  \\\n",
       "count   3.100000e+06         3.100000e+06    3.037620e+06     3.037620e+06   \n",
       "mean    2.198954e+03         1.306733e+03    1.313586e+03     1.014685e+01   \n",
       "std     1.773991e+03         4.866607e+02    4.998907e+02     3.814342e+01   \n",
       "min     1.000000e+00         1.000000e+00    1.000000e+00    -6.800000e+01   \n",
       "25%     7.360000e+02         9.000000e+02    9.010000e+02    -5.000000e+00   \n",
       "50%     1.682000e+03         1.302000e+03    1.309000e+03    -1.000000e+00   \n",
       "75%     3.366000e+03         1.720000e+03    1.730000e+03     8.000000e+00   \n",
       "max     9.794000e+03         2.359000e+03    2.400000e+03     1.988000e+03   \n",
       "\n",
       "           TAXI_OUT    WHEELS_OFF  SCHEDULED_TIME  ELAPSED_TIME      AIR_TIME  \\\n",
       "count  3.035848e+06  3.035848e+06    3.099994e+06  3.026542e+06  3.026542e+06   \n",
       "mean   1.610943e+01  1.335994e+03    1.413192e+02  1.372243e+02  1.136995e+02   \n",
       "std    9.194957e+00  5.010123e+02    7.490822e+01  7.409271e+01  7.208077e+01   \n",
       "min    1.000000e+00  1.000000e+00    1.800000e+01  1.500000e+01  7.000000e+00   \n",
       "25%    1.100000e+01  9.170000e+02    8.500000e+01  8.300000e+01  6.100000e+01   \n",
       "50%    1.400000e+01  1.322000e+03    1.230000e+02  1.190000e+02  9.500000e+01   \n",
       "75%    1.900000e+01  1.744000e+03    1.730000e+02  1.690000e+02  1.440000e+02   \n",
       "max    2.250000e+02  2.400000e+03    7.180000e+02  7.660000e+02  6.900000e+02   \n",
       "\n",
       "           DISTANCE     WHEELS_ON       TAXI_IN  SCHEDULED_ARRIVAL  \\\n",
       "count  3.100000e+06  3.033718e+06  3.033718e+06       3.100000e+06   \n",
       "mean   8.189432e+02  1.454218e+03  7.428170e+00       1.477293e+03   \n",
       "std    6.032394e+02  5.222818e+02  5.736866e+00       5.056739e+02   \n",
       "min    2.100000e+01  1.000000e+00  1.000000e+00       1.000000e+00   \n",
       "25%    3.720000e+02  1.040000e+03  4.000000e+00       1.055000e+03   \n",
       "50%    6.490000e+02  1.450000e+03  6.000000e+00       1.500000e+03   \n",
       "75%    1.061000e+03  1.903000e+03  9.000000e+00       1.910000e+03   \n",
       "max    4.983000e+03  2.400000e+03  2.020000e+02       2.400000e+03   \n",
       "\n",
       "       ARRIVAL_TIME  ARRIVAL_DELAY      DIVERTED     CANCELLED  \\\n",
       "count  3.033718e+06   3.026542e+06  3.100000e+06  3.100000e+06   \n",
       "mean   1.459485e+03   5.715180e+00  2.829032e-03  2.086710e-02   \n",
       "std    5.259963e+02   4.041859e+01  5.311337e-02  1.429394e-01   \n",
       "min    1.000000e+00  -8.700000e+01  0.000000e+00  0.000000e+00   \n",
       "25%    1.044000e+03  -1.300000e+01  0.000000e+00  0.000000e+00   \n",
       "50%    1.454000e+03  -4.000000e+00  0.000000e+00  0.000000e+00   \n",
       "75%    1.908000e+03   9.000000e+00  0.000000e+00  0.000000e+00   \n",
       "max    2.400000e+03   1.971000e+03  1.000000e+00  1.000000e+00   \n",
       "\n",
       "       AIR_SYSTEM_DELAY  SECURITY_DELAY  AIRLINE_DELAY  LATE_AIRCRAFT_DELAY  \\\n",
       "count     604803.000000   604803.000000  604803.000000        604803.000000   \n",
       "mean          13.726177        0.060231      18.877441            23.331875   \n",
       "std           28.029495        1.815045      47.726754            43.011331   \n",
       "min            0.000000        0.000000       0.000000             0.000000   \n",
       "25%            0.000000        0.000000       0.000000             0.000000   \n",
       "50%            2.000000        0.000000       2.000000             3.000000   \n",
       "75%           18.000000        0.000000      19.000000            29.000000   \n",
       "max         1101.000000      241.000000    1971.000000          1331.000000   \n",
       "\n",
       "       WEATHER_DELAY  \n",
       "count  604803.000000  \n",
       "mean        3.187944  \n",
       "std        21.447738  \n",
       "min         0.000000  \n",
       "25%         0.000000  \n",
       "50%         0.000000  \n",
       "75%         0.000000  \n",
       "max      1152.000000  "
      ]
     },
     "execution_count": 9,
     "metadata": {},
     "output_type": "execute_result"
    }
   ],
   "source": [
    "flights.loc[:,'AIRLINE':'WEATHER_DELAY'].describe()"
   ]
  },
  {
   "cell_type": "markdown",
   "metadata": {},
   "source": [
    "Sprawdźmy, jak wygląda heatmapa macierzy korelacji, przed preprocessingiem danych."
   ]
  },
  {
   "cell_type": "code",
   "execution_count": 10,
   "metadata": {},
   "outputs": [
    {
     "data": {
      "text/plain": [
       "<matplotlib.axes._subplots.AxesSubplot at 0x7f0b5c0ac650>"
      ]
     },
     "execution_count": 10,
     "metadata": {},
     "output_type": "execute_result"
    },
    {
     "data": {
      "image/png": "[encoded data removed]",
      "text/plain": [
       "<Figure size 1000x1000 with 2 Axes>"
      ]
     },
     "metadata": {
      "needs_background": "light"
     },
     "output_type": "display_data"
    }
   ],
   "source": [
    "plt.figure(figsize=(10,10),dpi = 100)\n",
    "cor = flights.corr(method='pearson')\n",
    "sns.heatmap(cor, annot=cor)"
   ]
  },
  {
   "cell_type": "markdown",
   "metadata": {},
   "source": [
    "Jest troszkę mocnych korelacji, mocniej przyjrzymy im sie po oczyszczeniu danych."
   ]
  },
  {
   "cell_type": "markdown",
   "metadata": {},
   "source": [
    "## Czyszczenie danych \n",
    "\n"
   ]
  },
  {
   "cell_type": "markdown",
   "metadata": {},
   "source": [
    "Dane w obecnej formie są obiektem trudnym do analizy. Aby umożliwić przeprowadzenie lepszych analiz, zdecydowano się na oczyszczenie zebranych danych, tak aby pozbyć się zbędnych elementów."
   ]
  },
  {
   "cell_type": "markdown",
   "metadata": {},
   "source": [
    "Po przekonwertowaniu niezbędnych wartości czasu na typ danych DateTime, trzeba sprawdzić dane zgodnie z ich integralnością. Wartości zerowe lub brakujące dane trzeba obsłużyć. Niżej jest zaprezentowana suma brakujących danych dla poszczególnych cech."
   ]
  },
  {
   "cell_type": "code",
   "execution_count": 11,
   "metadata": {},
   "outputs": [
    {
     "data": {
      "text/plain": [
       "YEAR                         0\n",
       "MONTH                        0\n",
       "DAY                          0\n",
       "DAY_OF_WEEK                  0\n",
       "AIRLINE                      0\n",
       "FLIGHT_NUMBER                0\n",
       "TAIL_NUMBER              11137\n",
       "ORIGIN_AIRPORT               0\n",
       "DESTINATION_AIRPORT          0\n",
       "SCHEDULED_DEPARTURE          0\n",
       "DEPARTURE_TIME           62380\n",
       "DEPARTURE_DELAY          62380\n",
       "TAXI_OUT                 64152\n",
       "WHEELS_OFF               64152\n",
       "SCHEDULED_TIME               6\n",
       "ELAPSED_TIME             73458\n",
       "AIR_TIME                 73458\n",
       "DISTANCE                     0\n",
       "WHEELS_ON                66282\n",
       "TAXI_IN                  66282\n",
       "SCHEDULED_ARRIVAL            0\n",
       "ARRIVAL_TIME             66282\n",
       "ARRIVAL_DELAY            73458\n",
       "DIVERTED                     0\n",
       "CANCELLED                    0\n",
       "CANCELLATION_REASON    3035312\n",
       "AIR_SYSTEM_DELAY       2495197\n",
       "SECURITY_DELAY         2495197\n",
       "AIRLINE_DELAY          2495197\n",
       "LATE_AIRCRAFT_DELAY    2495197\n",
       "WEATHER_DELAY          2495197\n",
       "dtype: int64"
      ]
     },
     "execution_count": 11,
     "metadata": {},
     "output_type": "execute_result"
    }
   ],
   "source": [
    "flights.isnull().sum()"
   ]
  },
  {
   "cell_type": "markdown",
   "metadata": {},
   "source": [
    "Analiza zerowa pokazuje które atrybuty posiadają najwęcej zerowych wartości:\n",
    "\n",
    "* CANCELLATION_REASON\n",
    "* AIR_SYSTEM_DELAY\n",
    "* SECURITY_DELAY\n",
    "* AIRLINE_DELAY\n",
    "* LATE_AIRCRAFT_DELAY\n",
    "* WEATHER_DELAY\n",
    "\n",
    "Patrząc na dane, możemy zauważyć, że dane w kolumnach AIR_SYSTEM_DELAY, SECURITY_DELAY, AIRLINE_DELAY, LATE_AIRCRAFT_DELAY, WEATHER_DELAY są NaN, gdy nie wystąpiło opóźnienie (gdy chociaż w jednej z kolumn wystąpi dla danego rekordu opóźnienie, pozostałe przyjmują wartość nie NaN, a 0).\n",
    "Można w tych kolumnach NaN przekształcić wartość na wartość 0."
   ]
  },
  {
   "cell_type": "code",
   "execution_count": 12,
   "metadata": {},
   "outputs": [],
   "source": [
    "flights['AIRLINE_DELAY'] = flights['AIRLINE_DELAY'].fillna(0)\n",
    "flights['AIR_SYSTEM_DELAY'] = flights['AIR_SYSTEM_DELAY'].fillna(0)\n",
    "flights['SECURITY_DELAY'] = flights['SECURITY_DELAY'].fillna(0)\n",
    "flights['LATE_AIRCRAFT_DELAY'] = flights['LATE_AIRCRAFT_DELAY'].fillna(0)\n",
    "flights['WEATHER_DELAY'] = flights['WEATHER_DELAY'].fillna(0)"
   ]
  },
  {
   "cell_type": "code",
   "execution_count": 13,
   "metadata": {},
   "outputs": [
    {
     "data": {
      "text/plain": [
       "YEAR                         0\n",
       "MONTH                        0\n",
       "DAY                          0\n",
       "DAY_OF_WEEK                  0\n",
       "AIRLINE                      0\n",
       "FLIGHT_NUMBER                0\n",
       "TAIL_NUMBER              11137\n",
       "ORIGIN_AIRPORT               0\n",
       "DESTINATION_AIRPORT          0\n",
       "SCHEDULED_DEPARTURE          0\n",
       "DEPARTURE_TIME           62380\n",
       "DEPARTURE_DELAY          62380\n",
       "TAXI_OUT                 64152\n",
       "WHEELS_OFF               64152\n",
       "SCHEDULED_TIME               6\n",
       "ELAPSED_TIME             73458\n",
       "AIR_TIME                 73458\n",
       "DISTANCE                     0\n",
       "WHEELS_ON                66282\n",
       "TAXI_IN                  66282\n",
       "SCHEDULED_ARRIVAL            0\n",
       "ARRIVAL_TIME             66282\n",
       "ARRIVAL_DELAY            73458\n",
       "DIVERTED                     0\n",
       "CANCELLED                    0\n",
       "CANCELLATION_REASON    3035312\n",
       "AIR_SYSTEM_DELAY             0\n",
       "SECURITY_DELAY               0\n",
       "AIRLINE_DELAY                0\n",
       "LATE_AIRCRAFT_DELAY          0\n",
       "WEATHER_DELAY                0\n",
       "dtype: int64"
      ]
     },
     "execution_count": 13,
     "metadata": {},
     "output_type": "execute_result"
    }
   ],
   "source": [
    "flights.isnull().sum()"
   ]
  },
  {
   "cell_type": "markdown",
   "metadata": {},
   "source": [
    "----------------"
   ]
  },
  {
   "cell_type": "markdown",
   "metadata": {},
   "source": [
    "Wartości zerowe znacznie spadły. Zostało tylko kilka atrybutów. Szczególnie dużo zer jest jednak dla cechy CANCELLATION_REASON, prawie cała kolumna jest zerowa. Powód odwołania lotów dzieli się na następujące zdarzenia:\n",
    "* A - Linia lotnicza / przewoźnik\n",
    "* B - Pogoda\n",
    "* C - National Air System\n",
    "* D - Bezpieczeństwo\n",
    "\n",
    "Poniżej są zaprezentowane liczności danych powodów odwolania lotu:"
   ]
  },
  {
   "cell_type": "code",
   "execution_count": 14,
   "metadata": {},
   "outputs": [
    {
     "data": {
      "text/plain": [
       "B    37590\n",
       "A    16664\n",
       "C    10426\n",
       "D        8\n",
       "Name: CANCELLATION_REASON, dtype: int64"
      ]
     },
     "execution_count": 14,
     "metadata": {},
     "output_type": "execute_result"
    }
   ],
   "source": [
    "flights['CANCELLATION_REASON'].value_counts()"
   ]
  },
  {
   "cell_type": "markdown",
   "metadata": {},
   "source": [
    "Sprawdźmy, jaka część lotów została z jakiegokolwiek powodu anulowana\n"
   ]
  },
  {
   "cell_type": "code",
   "execution_count": 15,
   "metadata": {},
   "outputs": [
    {
     "data": {
      "text/plain": [
       "0"
      ]
     },
     "execution_count": 15,
     "metadata": {},
     "output_type": "execute_result"
    }
   ],
   "source": [
    "flights['CANCELLATION_REASON'].value_counts().sum() / flights.shape[0] * 100"
   ]
  },
  {
   "cell_type": "markdown",
   "metadata": {},
   "source": [
    "Wynik w okolicach 1.5% wydaje się być bardzo prawdopodobny."
   ]
  },
  {
   "cell_type": "code",
   "execution_count": 16,
   "metadata": {},
   "outputs": [
    {
     "data": {
      "text/plain": [
       "3099995    NaN\n",
       "3099996    NaN\n",
       "3099997    NaN\n",
       "3099998    NaN\n",
       "3099999    NaN\n",
       "Name: CANCELLATION_REASON, dtype: object"
      ]
     },
     "execution_count": 16,
     "metadata": {},
     "output_type": "execute_result"
    }
   ],
   "source": [
    "flights['CANCELLATION_REASON'].tail()"
   ]
  },
  {
   "cell_type": "markdown",
   "metadata": {},
   "source": [
    "Zobaczmy jaka część z \"przyciętych\" danych dotyczy lotów anulowanych. Mamy do czynienia z kolumną wartości binarnych, gdzie 0 oznacza lot, który się odbył, a 1 oznacza lot, który został anulowany."
   ]
  },
  {
   "cell_type": "code",
   "execution_count": 17,
   "metadata": {},
   "outputs": [
    {
     "data": {
      "text/plain": [
       "0    3035312\n",
       "1      64688\n",
       "Name: CANCELLED, dtype: int64"
      ]
     },
     "execution_count": 17,
     "metadata": {},
     "output_type": "execute_result"
    }
   ],
   "source": [
    "flights[\"CANCELLED\"].value_counts()"
   ]
  },
  {
   "cell_type": "markdown",
   "metadata": {},
   "source": [
    "Sprawdźmy, jaka część lotów została anulowana"
   ]
  },
  {
   "cell_type": "code",
   "execution_count": 18,
   "metadata": {},
   "outputs": [
    {
     "name": "stdout",
     "output_type": "stream",
     "text": [
      "0\n"
     ]
    }
   ],
   "source": [
    "not_cancelled_count = flights[\"CANCELLED\"].value_counts()[0]\n",
    "cancelled_count = flights[\"CANCELLED\"].value_counts()[1]\n",
    "print(cancelled_count / (not_cancelled_count + cancelled_count) * 100)"
   ]
  },
  {
   "cell_type": "markdown",
   "metadata": {},
   "source": [
    "Otrzymano taki sam wynik jak w przypadku poprzedniego obliczenia, w związku z czym dowiedzieliśmy się, że jeśli lot został anulowany, to na pewno podana została informacja o powodzie anulowania."
   ]
  },
  {
   "cell_type": "markdown",
   "metadata": {},
   "source": [
    "Widzimy więc, że zdecydowana większość lotów odbyła się (prędzej czy później). "
   ]
  },
  {
   "cell_type": "markdown",
   "metadata": {},
   "source": [
    "W związku z tym, usuniemy te wiersze, dla których kolumna CANCELLED przyjmowała niezerowe wartości, a potem usuniemy kolumny CANCELLED, CANCELLATION_REASON."
   ]
  },
  {
   "cell_type": "code",
   "execution_count": 19,
   "metadata": {},
   "outputs": [
    {
     "name": "stdout",
     "output_type": "stream",
     "text": [
      "3100000\n"
     ]
    }
   ],
   "source": [
    "print(flights.shape[0])"
   ]
  },
  {
   "cell_type": "code",
   "execution_count": 20,
   "metadata": {},
   "outputs": [],
   "source": [
    "flights = flights[flights.CANCELLED == 0]"
   ]
  },
  {
   "cell_type": "code",
   "execution_count": 21,
   "metadata": {},
   "outputs": [
    {
     "name": "stdout",
     "output_type": "stream",
     "text": [
      "3035312\n"
     ]
    }
   ],
   "source": [
    "print(flights.shape[0])"
   ]
  },
  {
   "cell_type": "code",
   "execution_count": 22,
   "metadata": {},
   "outputs": [
    {
     "name": "stdout",
     "output_type": "stream",
     "text": [
      "31\n"
     ]
    }
   ],
   "source": [
    "print(flights.shape[1])"
   ]
  },
  {
   "cell_type": "code",
   "execution_count": 23,
   "metadata": {},
   "outputs": [],
   "source": [
    "flights = flights.drop('CANCELLED', 1)\n",
    "flights = flights.drop('CANCELLATION_REASON', 1)"
   ]
  },
  {
   "cell_type": "code",
   "execution_count": 24,
   "metadata": {},
   "outputs": [
    {
     "name": "stdout",
     "output_type": "stream",
     "text": [
      "29\n"
     ]
    }
   ],
   "source": [
    "print(flights.shape[1])"
   ]
  },
  {
   "cell_type": "markdown",
   "metadata": {},
   "source": [
    "------------------"
   ]
  },
  {
   "cell_type": "markdown",
   "metadata": {},
   "source": [
    "Przypomnijmy sobie, jak wygląda nasza ramka danych."
   ]
  },
  {
   "cell_type": "code",
   "execution_count": 25,
   "metadata": {
    "scrolled": true
   },
   "outputs": [
    {
     "data": {
      "text/html": [
       "<div>\n",
       "<style scoped>\n",
       "    .dataframe tbody tr th:only-of-type {\n",
       "        vertical-align: middle;\n",
       "    }\n",
       "\n",
       "    .dataframe tbody tr th {\n",
       "        vertical-align: top;\n",
       "    }\n",
       "\n",
       "    .dataframe thead th {\n",
       "        text-align: right;\n",
       "    }\n",
       "</style>\n",
       "<table border=\"1\" class=\"dataframe\">\n",
       "  <thead>\n",
       "    <tr style=\"text-align: right;\">\n",
       "      <th></th>\n",
       "      <th>YEAR</th>\n",
       "      <th>MONTH</th>\n",
       "      <th>DAY</th>\n",
       "      <th>DAY_OF_WEEK</th>\n",
       "      <th>AIRLINE</th>\n",
       "      <th>FLIGHT_NUMBER</th>\n",
       "      <th>TAIL_NUMBER</th>\n",
       "      <th>ORIGIN_AIRPORT</th>\n",
       "      <th>DESTINATION_AIRPORT</th>\n",
       "      <th>SCHEDULED_DEPARTURE</th>\n",
       "      <th>DEPARTURE_TIME</th>\n",
       "      <th>DEPARTURE_DELAY</th>\n",
       "      <th>TAXI_OUT</th>\n",
       "      <th>WHEELS_OFF</th>\n",
       "      <th>SCHEDULED_TIME</th>\n",
       "      <th>ELAPSED_TIME</th>\n",
       "      <th>AIR_TIME</th>\n",
       "      <th>DISTANCE</th>\n",
       "      <th>WHEELS_ON</th>\n",
       "      <th>TAXI_IN</th>\n",
       "      <th>SCHEDULED_ARRIVAL</th>\n",
       "      <th>ARRIVAL_TIME</th>\n",
       "      <th>ARRIVAL_DELAY</th>\n",
       "      <th>DIVERTED</th>\n",
       "      <th>AIR_SYSTEM_DELAY</th>\n",
       "      <th>SECURITY_DELAY</th>\n",
       "      <th>AIRLINE_DELAY</th>\n",
       "      <th>LATE_AIRCRAFT_DELAY</th>\n",
       "      <th>WEATHER_DELAY</th>\n",
       "    </tr>\n",
       "  </thead>\n",
       "  <tbody>\n",
       "    <tr>\n",
       "      <th>0</th>\n",
       "      <td>2015</td>\n",
       "      <td>1</td>\n",
       "      <td>1</td>\n",
       "      <td>4</td>\n",
       "      <td>AS</td>\n",
       "      <td>98</td>\n",
       "      <td>N407AS</td>\n",
       "      <td>ANC</td>\n",
       "      <td>SEA</td>\n",
       "      <td>5</td>\n",
       "      <td>2354.0</td>\n",
       "      <td>-11.0</td>\n",
       "      <td>21.0</td>\n",
       "      <td>15.0</td>\n",
       "      <td>205.0</td>\n",
       "      <td>194.0</td>\n",
       "      <td>169.0</td>\n",
       "      <td>1448</td>\n",
       "      <td>404.0</td>\n",
       "      <td>4.0</td>\n",
       "      <td>430</td>\n",
       "      <td>408.0</td>\n",
       "      <td>-22.0</td>\n",
       "      <td>0</td>\n",
       "      <td>0.0</td>\n",
       "      <td>0.0</td>\n",
       "      <td>0.0</td>\n",
       "      <td>0.0</td>\n",
       "      <td>0.0</td>\n",
       "    </tr>\n",
       "    <tr>\n",
       "      <th>1</th>\n",
       "      <td>2015</td>\n",
       "      <td>1</td>\n",
       "      <td>1</td>\n",
       "      <td>4</td>\n",
       "      <td>AA</td>\n",
       "      <td>2336</td>\n",
       "      <td>N3KUAA</td>\n",
       "      <td>LAX</td>\n",
       "      <td>PBI</td>\n",
       "      <td>10</td>\n",
       "      <td>2.0</td>\n",
       "      <td>-8.0</td>\n",
       "      <td>12.0</td>\n",
       "      <td>14.0</td>\n",
       "      <td>280.0</td>\n",
       "      <td>279.0</td>\n",
       "      <td>263.0</td>\n",
       "      <td>2330</td>\n",
       "      <td>737.0</td>\n",
       "      <td>4.0</td>\n",
       "      <td>750</td>\n",
       "      <td>741.0</td>\n",
       "      <td>-9.0</td>\n",
       "      <td>0</td>\n",
       "      <td>0.0</td>\n",
       "      <td>0.0</td>\n",
       "      <td>0.0</td>\n",
       "      <td>0.0</td>\n",
       "      <td>0.0</td>\n",
       "    </tr>\n",
       "    <tr>\n",
       "      <th>2</th>\n",
       "      <td>2015</td>\n",
       "      <td>1</td>\n",
       "      <td>1</td>\n",
       "      <td>4</td>\n",
       "      <td>US</td>\n",
       "      <td>840</td>\n",
       "      <td>N171US</td>\n",
       "      <td>SFO</td>\n",
       "      <td>CLT</td>\n",
       "      <td>20</td>\n",
       "      <td>18.0</td>\n",
       "      <td>-2.0</td>\n",
       "      <td>16.0</td>\n",
       "      <td>34.0</td>\n",
       "      <td>286.0</td>\n",
       "      <td>293.0</td>\n",
       "      <td>266.0</td>\n",
       "      <td>2296</td>\n",
       "      <td>800.0</td>\n",
       "      <td>11.0</td>\n",
       "      <td>806</td>\n",
       "      <td>811.0</td>\n",
       "      <td>5.0</td>\n",
       "      <td>0</td>\n",
       "      <td>0.0</td>\n",
       "      <td>0.0</td>\n",
       "      <td>0.0</td>\n",
       "      <td>0.0</td>\n",
       "      <td>0.0</td>\n",
       "    </tr>\n",
       "    <tr>\n",
       "      <th>3</th>\n",
       "      <td>2015</td>\n",
       "      <td>1</td>\n",
       "      <td>1</td>\n",
       "      <td>4</td>\n",
       "      <td>AA</td>\n",
       "      <td>258</td>\n",
       "      <td>N3HYAA</td>\n",
       "      <td>LAX</td>\n",
       "      <td>MIA</td>\n",
       "      <td>20</td>\n",
       "      <td>15.0</td>\n",
       "      <td>-5.0</td>\n",
       "      <td>15.0</td>\n",
       "      <td>30.0</td>\n",
       "      <td>285.0</td>\n",
       "      <td>281.0</td>\n",
       "      <td>258.0</td>\n",
       "      <td>2342</td>\n",
       "      <td>748.0</td>\n",
       "      <td>8.0</td>\n",
       "      <td>805</td>\n",
       "      <td>756.0</td>\n",
       "      <td>-9.0</td>\n",
       "      <td>0</td>\n",
       "      <td>0.0</td>\n",
       "      <td>0.0</td>\n",
       "      <td>0.0</td>\n",
       "      <td>0.0</td>\n",
       "      <td>0.0</td>\n",
       "    </tr>\n",
       "    <tr>\n",
       "      <th>4</th>\n",
       "      <td>2015</td>\n",
       "      <td>1</td>\n",
       "      <td>1</td>\n",
       "      <td>4</td>\n",
       "      <td>AS</td>\n",
       "      <td>135</td>\n",
       "      <td>N527AS</td>\n",
       "      <td>SEA</td>\n",
       "      <td>ANC</td>\n",
       "      <td>25</td>\n",
       "      <td>24.0</td>\n",
       "      <td>-1.0</td>\n",
       "      <td>11.0</td>\n",
       "      <td>35.0</td>\n",
       "      <td>235.0</td>\n",
       "      <td>215.0</td>\n",
       "      <td>199.0</td>\n",
       "      <td>1448</td>\n",
       "      <td>254.0</td>\n",
       "      <td>5.0</td>\n",
       "      <td>320</td>\n",
       "      <td>259.0</td>\n",
       "      <td>-21.0</td>\n",
       "      <td>0</td>\n",
       "      <td>0.0</td>\n",
       "      <td>0.0</td>\n",
       "      <td>0.0</td>\n",
       "      <td>0.0</td>\n",
       "      <td>0.0</td>\n",
       "    </tr>\n",
       "  </tbody>\n",
       "</table>\n",
       "</div>"
      ],
      "text/plain": [
       "   YEAR  MONTH  DAY  DAY_OF_WEEK AIRLINE  FLIGHT_NUMBER TAIL_NUMBER  \\\n",
       "0  2015      1    1            4      AS             98      N407AS   \n",
       "1  2015      1    1            4      AA           2336      N3KUAA   \n",
       "2  2015      1    1            4      US            840      N171US   \n",
       "3  2015      1    1            4      AA            258      N3HYAA   \n",
       "4  2015      1    1            4      AS            135      N527AS   \n",
       "\n",
       "  ORIGIN_AIRPORT DESTINATION_AIRPORT  SCHEDULED_DEPARTURE  DEPARTURE_TIME  \\\n",
       "0            ANC                 SEA                    5          2354.0   \n",
       "1            LAX                 PBI                   10             2.0   \n",
       "2            SFO                 CLT                   20            18.0   \n",
       "3            LAX                 MIA                   20            15.0   \n",
       "4            SEA                 ANC                   25            24.0   \n",
       "\n",
       "   DEPARTURE_DELAY  TAXI_OUT  WHEELS_OFF  SCHEDULED_TIME  ELAPSED_TIME  \\\n",
       "0            -11.0      21.0        15.0           205.0         194.0   \n",
       "1             -8.0      12.0        14.0           280.0         279.0   \n",
       "2             -2.0      16.0        34.0           286.0         293.0   \n",
       "3             -5.0      15.0        30.0           285.0         281.0   \n",
       "4             -1.0      11.0        35.0           235.0         215.0   \n",
       "\n",
       "   AIR_TIME  DISTANCE  WHEELS_ON  TAXI_IN  SCHEDULED_ARRIVAL  ARRIVAL_TIME  \\\n",
       "0     169.0      1448      404.0      4.0                430         408.0   \n",
       "1     263.0      2330      737.0      4.0                750         741.0   \n",
       "2     266.0      2296      800.0     11.0                806         811.0   \n",
       "3     258.0      2342      748.0      8.0                805         756.0   \n",
       "4     199.0      1448      254.0      5.0                320         259.0   \n",
       "\n",
       "   ARRIVAL_DELAY  DIVERTED  AIR_SYSTEM_DELAY  SECURITY_DELAY  AIRLINE_DELAY  \\\n",
       "0          -22.0         0               0.0             0.0            0.0   \n",
       "1           -9.0         0               0.0             0.0            0.0   \n",
       "2            5.0         0               0.0             0.0            0.0   \n",
       "3           -9.0         0               0.0             0.0            0.0   \n",
       "4          -21.0         0               0.0             0.0            0.0   \n",
       "\n",
       "   LATE_AIRCRAFT_DELAY  WEATHER_DELAY  \n",
       "0                  0.0            0.0  \n",
       "1                  0.0            0.0  \n",
       "2                  0.0            0.0  \n",
       "3                  0.0            0.0  \n",
       "4                  0.0            0.0  "
      ]
     },
     "execution_count": 25,
     "metadata": {},
     "output_type": "execute_result"
    }
   ],
   "source": [
    "flights.head()"
   ]
  },
  {
   "cell_type": "markdown",
   "metadata": {},
   "source": [
    "Sprawdźmy jak w tym momencie przedstawia się kwestia brakujących wartości."
   ]
  },
  {
   "cell_type": "code",
   "execution_count": 26,
   "metadata": {},
   "outputs": [
    {
     "data": {
      "text/plain": [
       "YEAR                      0\n",
       "MONTH                     0\n",
       "DAY                       0\n",
       "DAY_OF_WEEK               0\n",
       "AIRLINE                   0\n",
       "FLIGHT_NUMBER             0\n",
       "TAIL_NUMBER               0\n",
       "ORIGIN_AIRPORT            0\n",
       "DESTINATION_AIRPORT       0\n",
       "SCHEDULED_DEPARTURE       0\n",
       "DEPARTURE_TIME            0\n",
       "DEPARTURE_DELAY           0\n",
       "TAXI_OUT                  0\n",
       "WHEELS_OFF                0\n",
       "SCHEDULED_TIME            1\n",
       "ELAPSED_TIME           8770\n",
       "AIR_TIME               8770\n",
       "DISTANCE                  0\n",
       "WHEELS_ON              1594\n",
       "TAXI_IN                1594\n",
       "SCHEDULED_ARRIVAL         0\n",
       "ARRIVAL_TIME           1594\n",
       "ARRIVAL_DELAY          8770\n",
       "DIVERTED                  0\n",
       "AIR_SYSTEM_DELAY          0\n",
       "SECURITY_DELAY            0\n",
       "AIRLINE_DELAY             0\n",
       "LATE_AIRCRAFT_DELAY       0\n",
       "WEATHER_DELAY             0\n",
       "dtype: int64"
      ]
     },
     "execution_count": 26,
     "metadata": {},
     "output_type": "execute_result"
    }
   ],
   "source": [
    "flights.isnull().sum()"
   ]
  },
  {
   "cell_type": "markdown",
   "metadata": {},
   "source": [
    "Jak obserwujemy, braki występują w przypadku sześciu różnych cech, aczkolwiek liczba braków dla danej cechy jest identyczna dla jednej połowy z nich, inna ale identyczna dla drugiej połowy. Zapiszmy obecną liczbę wierszy."
   ]
  },
  {
   "cell_type": "code",
   "execution_count": 27,
   "metadata": {},
   "outputs": [],
   "source": [
    "prev_row_count = flights.shape[0]"
   ]
  },
  {
   "cell_type": "markdown",
   "metadata": {},
   "source": [
    "Poniższa instrukcja usuwa rekordy, w których znajduje się co najmniej jedna brakująca wartość. Jesteśmy w momencie, w którym chcemy się zdecydować na taką operację."
   ]
  },
  {
   "cell_type": "code",
   "execution_count": 28,
   "metadata": {},
   "outputs": [],
   "source": [
    "flights = flights.dropna()"
   ]
  },
  {
   "cell_type": "code",
   "execution_count": 29,
   "metadata": {},
   "outputs": [
    {
     "data": {
      "text/html": [
       "<div>\n",
       "<style scoped>\n",
       "    .dataframe tbody tr th:only-of-type {\n",
       "        vertical-align: middle;\n",
       "    }\n",
       "\n",
       "    .dataframe tbody tr th {\n",
       "        vertical-align: top;\n",
       "    }\n",
       "\n",
       "    .dataframe thead th {\n",
       "        text-align: right;\n",
       "    }\n",
       "</style>\n",
       "<table border=\"1\" class=\"dataframe\">\n",
       "  <thead>\n",
       "    <tr style=\"text-align: right;\">\n",
       "      <th></th>\n",
       "      <th>YEAR</th>\n",
       "      <th>MONTH</th>\n",
       "      <th>DAY</th>\n",
       "      <th>DAY_OF_WEEK</th>\n",
       "      <th>AIRLINE</th>\n",
       "      <th>FLIGHT_NUMBER</th>\n",
       "      <th>TAIL_NUMBER</th>\n",
       "      <th>ORIGIN_AIRPORT</th>\n",
       "      <th>DESTINATION_AIRPORT</th>\n",
       "      <th>SCHEDULED_DEPARTURE</th>\n",
       "      <th>DEPARTURE_TIME</th>\n",
       "      <th>DEPARTURE_DELAY</th>\n",
       "      <th>TAXI_OUT</th>\n",
       "      <th>WHEELS_OFF</th>\n",
       "      <th>SCHEDULED_TIME</th>\n",
       "      <th>ELAPSED_TIME</th>\n",
       "      <th>AIR_TIME</th>\n",
       "      <th>DISTANCE</th>\n",
       "      <th>WHEELS_ON</th>\n",
       "      <th>TAXI_IN</th>\n",
       "      <th>SCHEDULED_ARRIVAL</th>\n",
       "      <th>ARRIVAL_TIME</th>\n",
       "      <th>ARRIVAL_DELAY</th>\n",
       "      <th>DIVERTED</th>\n",
       "      <th>AIR_SYSTEM_DELAY</th>\n",
       "      <th>SECURITY_DELAY</th>\n",
       "      <th>AIRLINE_DELAY</th>\n",
       "      <th>LATE_AIRCRAFT_DELAY</th>\n",
       "      <th>WEATHER_DELAY</th>\n",
       "    </tr>\n",
       "  </thead>\n",
       "  <tbody>\n",
       "    <tr>\n",
       "      <th>0</th>\n",
       "      <td>2015</td>\n",
       "      <td>1</td>\n",
       "      <td>1</td>\n",
       "      <td>4</td>\n",
       "      <td>AS</td>\n",
       "      <td>98</td>\n",
       "      <td>N407AS</td>\n",
       "      <td>ANC</td>\n",
       "      <td>SEA</td>\n",
       "      <td>5</td>\n",
       "      <td>2354.0</td>\n",
       "      <td>-11.0</td>\n",
       "      <td>21.0</td>\n",
       "      <td>15.0</td>\n",
       "      <td>205.0</td>\n",
       "      <td>194.0</td>\n",
       "      <td>169.0</td>\n",
       "      <td>1448</td>\n",
       "      <td>404.0</td>\n",
       "      <td>4.0</td>\n",
       "      <td>430</td>\n",
       "      <td>408.0</td>\n",
       "      <td>-22.0</td>\n",
       "      <td>0</td>\n",
       "      <td>0.0</td>\n",
       "      <td>0.0</td>\n",
       "      <td>0.0</td>\n",
       "      <td>0.0</td>\n",
       "      <td>0.0</td>\n",
       "    </tr>\n",
       "    <tr>\n",
       "      <th>1</th>\n",
       "      <td>2015</td>\n",
       "      <td>1</td>\n",
       "      <td>1</td>\n",
       "      <td>4</td>\n",
       "      <td>AA</td>\n",
       "      <td>2336</td>\n",
       "      <td>N3KUAA</td>\n",
       "      <td>LAX</td>\n",
       "      <td>PBI</td>\n",
       "      <td>10</td>\n",
       "      <td>2.0</td>\n",
       "      <td>-8.0</td>\n",
       "      <td>12.0</td>\n",
       "      <td>14.0</td>\n",
       "      <td>280.0</td>\n",
       "      <td>279.0</td>\n",
       "      <td>263.0</td>\n",
       "      <td>2330</td>\n",
       "      <td>737.0</td>\n",
       "      <td>4.0</td>\n",
       "      <td>750</td>\n",
       "      <td>741.0</td>\n",
       "      <td>-9.0</td>\n",
       "      <td>0</td>\n",
       "      <td>0.0</td>\n",
       "      <td>0.0</td>\n",
       "      <td>0.0</td>\n",
       "      <td>0.0</td>\n",
       "      <td>0.0</td>\n",
       "    </tr>\n",
       "    <tr>\n",
       "      <th>2</th>\n",
       "      <td>2015</td>\n",
       "      <td>1</td>\n",
       "      <td>1</td>\n",
       "      <td>4</td>\n",
       "      <td>US</td>\n",
       "      <td>840</td>\n",
       "      <td>N171US</td>\n",
       "      <td>SFO</td>\n",
       "      <td>CLT</td>\n",
       "      <td>20</td>\n",
       "      <td>18.0</td>\n",
       "      <td>-2.0</td>\n",
       "      <td>16.0</td>\n",
       "      <td>34.0</td>\n",
       "      <td>286.0</td>\n",
       "      <td>293.0</td>\n",
       "      <td>266.0</td>\n",
       "      <td>2296</td>\n",
       "      <td>800.0</td>\n",
       "      <td>11.0</td>\n",
       "      <td>806</td>\n",
       "      <td>811.0</td>\n",
       "      <td>5.0</td>\n",
       "      <td>0</td>\n",
       "      <td>0.0</td>\n",
       "      <td>0.0</td>\n",
       "      <td>0.0</td>\n",
       "      <td>0.0</td>\n",
       "      <td>0.0</td>\n",
       "    </tr>\n",
       "    <tr>\n",
       "      <th>3</th>\n",
       "      <td>2015</td>\n",
       "      <td>1</td>\n",
       "      <td>1</td>\n",
       "      <td>4</td>\n",
       "      <td>AA</td>\n",
       "      <td>258</td>\n",
       "      <td>N3HYAA</td>\n",
       "      <td>LAX</td>\n",
       "      <td>MIA</td>\n",
       "      <td>20</td>\n",
       "      <td>15.0</td>\n",
       "      <td>-5.0</td>\n",
       "      <td>15.0</td>\n",
       "      <td>30.0</td>\n",
       "      <td>285.0</td>\n",
       "      <td>281.0</td>\n",
       "      <td>258.0</td>\n",
       "      <td>2342</td>\n",
       "      <td>748.0</td>\n",
       "      <td>8.0</td>\n",
       "      <td>805</td>\n",
       "      <td>756.0</td>\n",
       "      <td>-9.0</td>\n",
       "      <td>0</td>\n",
       "      <td>0.0</td>\n",
       "      <td>0.0</td>\n",
       "      <td>0.0</td>\n",
       "      <td>0.0</td>\n",
       "      <td>0.0</td>\n",
       "    </tr>\n",
       "    <tr>\n",
       "      <th>4</th>\n",
       "      <td>2015</td>\n",
       "      <td>1</td>\n",
       "      <td>1</td>\n",
       "      <td>4</td>\n",
       "      <td>AS</td>\n",
       "      <td>135</td>\n",
       "      <td>N527AS</td>\n",
       "      <td>SEA</td>\n",
       "      <td>ANC</td>\n",
       "      <td>25</td>\n",
       "      <td>24.0</td>\n",
       "      <td>-1.0</td>\n",
       "      <td>11.0</td>\n",
       "      <td>35.0</td>\n",
       "      <td>235.0</td>\n",
       "      <td>215.0</td>\n",
       "      <td>199.0</td>\n",
       "      <td>1448</td>\n",
       "      <td>254.0</td>\n",
       "      <td>5.0</td>\n",
       "      <td>320</td>\n",
       "      <td>259.0</td>\n",
       "      <td>-21.0</td>\n",
       "      <td>0</td>\n",
       "      <td>0.0</td>\n",
       "      <td>0.0</td>\n",
       "      <td>0.0</td>\n",
       "      <td>0.0</td>\n",
       "      <td>0.0</td>\n",
       "    </tr>\n",
       "  </tbody>\n",
       "</table>\n",
       "</div>"
      ],
      "text/plain": [
       "   YEAR  MONTH  DAY  DAY_OF_WEEK AIRLINE  FLIGHT_NUMBER TAIL_NUMBER  \\\n",
       "0  2015      1    1            4      AS             98      N407AS   \n",
       "1  2015      1    1            4      AA           2336      N3KUAA   \n",
       "2  2015      1    1            4      US            840      N171US   \n",
       "3  2015      1    1            4      AA            258      N3HYAA   \n",
       "4  2015      1    1            4      AS            135      N527AS   \n",
       "\n",
       "  ORIGIN_AIRPORT DESTINATION_AIRPORT  SCHEDULED_DEPARTURE  DEPARTURE_TIME  \\\n",
       "0            ANC                 SEA                    5          2354.0   \n",
       "1            LAX                 PBI                   10             2.0   \n",
       "2            SFO                 CLT                   20            18.0   \n",
       "3            LAX                 MIA                   20            15.0   \n",
       "4            SEA                 ANC                   25            24.0   \n",
       "\n",
       "   DEPARTURE_DELAY  TAXI_OUT  WHEELS_OFF  SCHEDULED_TIME  ELAPSED_TIME  \\\n",
       "0            -11.0      21.0        15.0           205.0         194.0   \n",
       "1             -8.0      12.0        14.0           280.0         279.0   \n",
       "2             -2.0      16.0        34.0           286.0         293.0   \n",
       "3             -5.0      15.0        30.0           285.0         281.0   \n",
       "4             -1.0      11.0        35.0           235.0         215.0   \n",
       "\n",
       "   AIR_TIME  DISTANCE  WHEELS_ON  TAXI_IN  SCHEDULED_ARRIVAL  ARRIVAL_TIME  \\\n",
       "0     169.0      1448      404.0      4.0                430         408.0   \n",
       "1     263.0      2330      737.0      4.0                750         741.0   \n",
       "2     266.0      2296      800.0     11.0                806         811.0   \n",
       "3     258.0      2342      748.0      8.0                805         756.0   \n",
       "4     199.0      1448      254.0      5.0                320         259.0   \n",
       "\n",
       "   ARRIVAL_DELAY  DIVERTED  AIR_SYSTEM_DELAY  SECURITY_DELAY  AIRLINE_DELAY  \\\n",
       "0          -22.0         0               0.0             0.0            0.0   \n",
       "1           -9.0         0               0.0             0.0            0.0   \n",
       "2            5.0         0               0.0             0.0            0.0   \n",
       "3           -9.0         0               0.0             0.0            0.0   \n",
       "4          -21.0         0               0.0             0.0            0.0   \n",
       "\n",
       "   LATE_AIRCRAFT_DELAY  WEATHER_DELAY  \n",
       "0                  0.0            0.0  \n",
       "1                  0.0            0.0  \n",
       "2                  0.0            0.0  \n",
       "3                  0.0            0.0  \n",
       "4                  0.0            0.0  "
      ]
     },
     "execution_count": 29,
     "metadata": {},
     "output_type": "execute_result"
    }
   ],
   "source": [
    "flights.head()"
   ]
  },
  {
   "cell_type": "code",
   "execution_count": 34,
   "metadata": {},
   "outputs": [],
   "source": [
    "row_count = flights.shape[0]\n",
    "removed_part = (prev_row_count - row_count) / prev_row_count * 100\n",
    "#print(f'Usunięto {removed_part} procent wszystkich rekordów')"
   ]
  },
  {
   "cell_type": "markdown",
   "metadata": {},
   "source": [
    "Usunięte dane stanowiły bardzo małą część całego zbioru."
   ]
  },
  {
   "cell_type": "code",
   "execution_count": 35,
   "metadata": {},
   "outputs": [
    {
     "data": {
      "text/plain": [
       "YEAR                   0\n",
       "MONTH                  0\n",
       "DAY                    0\n",
       "DAY_OF_WEEK            0\n",
       "AIRLINE                0\n",
       "FLIGHT_NUMBER          0\n",
       "TAIL_NUMBER            0\n",
       "ORIGIN_AIRPORT         0\n",
       "DESTINATION_AIRPORT    0\n",
       "SCHEDULED_DEPARTURE    0\n",
       "DEPARTURE_TIME         0\n",
       "DEPARTURE_DELAY        0\n",
       "TAXI_OUT               0\n",
       "WHEELS_OFF             0\n",
       "SCHEDULED_TIME         0\n",
       "ELAPSED_TIME           0\n",
       "AIR_TIME               0\n",
       "DISTANCE               0\n",
       "WHEELS_ON              0\n",
       "TAXI_IN                0\n",
       "SCHEDULED_ARRIVAL      0\n",
       "ARRIVAL_TIME           0\n",
       "ARRIVAL_DELAY          0\n",
       "DIVERTED               0\n",
       "AIR_SYSTEM_DELAY       0\n",
       "SECURITY_DELAY         0\n",
       "AIRLINE_DELAY          0\n",
       "LATE_AIRCRAFT_DELAY    0\n",
       "WEATHER_DELAY          0\n",
       "dtype: int64"
      ]
     },
     "execution_count": 35,
     "metadata": {},
     "output_type": "execute_result"
    }
   ],
   "source": [
    "flights.isnull().sum()"
   ]
  },
  {
   "cell_type": "markdown",
   "metadata": {},
   "source": [
    "-----------------------"
   ]
  },
  {
   "cell_type": "markdown",
   "metadata": {},
   "source": [
    "Widoczny jest problem z atrybutami które repezentują czas. Czas w tych atrybutach jest zaprezentowany jako float64 oraz wygląda to przykładowo jako 843.0. Istnieje potrzeba przekonwertowania tego na godzinę."
   ]
  },
  {
   "cell_type": "code",
   "execution_count": null,
   "metadata": {},
   "outputs": [],
   "source": [
    "# converting input time value to datetime.\n",
    "def conv_time(time_val):\n",
    "    if pd.isnull(time_val):\n",
    "        return np.nan\n",
    "    else:\n",
    "            # replace 24:00 o'clock with 00:00 o'clock:\n",
    "        if time_val == 2400: time_val = 0\n",
    "            # creating a 4 digit value out of input value:\n",
    "        time_val = \"{0:04d}\".format(int(time_val))\n",
    "            # creating a time datatype out of input value: \n",
    "        time_formatted = datetime.time(int(time_val[0:2]), int(time_val[2:4]))\n",
    "    return time_formatted"
   ]
  },
  {
   "cell_type": "code",
   "execution_count": null,
   "metadata": {},
   "outputs": [],
   "source": [
    "flights['ARRIVAL_TIME'] = flights['ARRIVAL_TIME'].apply(conv_time)\n",
    "flights['DEPARTURE_TIME'] = flights['DEPARTURE_TIME'].apply(conv_time)\n",
    "flights['SCHEDULED_DEPARTURE'] = flights['SCHEDULED_DEPARTURE'].apply(conv_time)\n",
    "flights['WHEELS_OFF'] = flights['WHEELS_OFF'].apply(conv_time)\n",
    "flights['WHEELS_ON'] = flights['WHEELS_ON'].apply(conv_time)\n",
    "flights['SCHEDULED_ARRIVAL'] = flights['SCHEDULED_ARRIVAL'].apply(conv_time)"
   ]
  },
  {
   "cell_type": "markdown",
   "metadata": {},
   "source": [
    "Teraz dane mają przyjaźniejszy format."
   ]
  },
  {
   "cell_type": "code",
   "execution_count": null,
   "metadata": {},
   "outputs": [],
   "source": [
    "flights.head()"
   ]
  },
  {
   "cell_type": "markdown",
   "metadata": {},
   "source": [
    "------------------------"
   ]
  },
  {
   "cell_type": "markdown",
   "metadata": {},
   "source": [
    "Teraz, gdy pozbyliśmy się braków w danych, czas zastanowić się, z których jeszcze kolumn możemy zrezygnować, gdyż nie wydają się być dobrą podstawą analizy."
   ]
  },
  {
   "cell_type": "code",
   "execution_count": null,
   "metadata": {},
   "outputs": [],
   "source": [
    "flights.loc[:,'AIRLINE':'WEATHER_DELAY'].describe()"
   ]
  },
  {
   "cell_type": "markdown",
   "metadata": {},
   "source": [
    "Kolumna diverted opisuje sytuacje, w których samolot lądował na innym lądowisku, niż miał planowo. Całe szczęście, takich przypadków w naszym zbiorze nie zaobserwowaliśmy. A nawet gdybyśmy takie znaleźli, to byłyby to przypadki niesamowicie rzadkie. Możemy więc usunąć tę nieprzydatną kolumnę."
   ]
  },
  {
   "cell_type": "code",
   "execution_count": null,
   "metadata": {},
   "outputs": [],
   "source": [
    "flights.shape[1]"
   ]
  },
  {
   "cell_type": "code",
   "execution_count": null,
   "metadata": {},
   "outputs": [],
   "source": [
    "flights = flights.drop('DIVERTED', 1)"
   ]
  },
  {
   "cell_type": "code",
   "execution_count": null,
   "metadata": {},
   "outputs": [],
   "source": [
    "flights.shape[1]"
   ]
  },
  {
   "cell_type": "markdown",
   "metadata": {},
   "source": [
    "Ponownie przyjrzyjmy się statystykom, nie zaprzątając już sobie głowy usuniętą kolumną."
   ]
  },
  {
   "cell_type": "code",
   "execution_count": null,
   "metadata": {},
   "outputs": [],
   "source": [
    "flights.loc[:,'AIRLINE':'WEATHER_DELAY'].describe()"
   ]
  },
  {
   "cell_type": "markdown",
   "metadata": {},
   "source": [
    "Kolejną kompletnie nieprzydatną kolumną jest FLIGHT_NUMBER. Jest to kolumna wartości numerycznych, które na pewno nie korelują z opóźnieniami lotów."
   ]
  },
  {
   "cell_type": "code",
   "execution_count": null,
   "metadata": {},
   "outputs": [],
   "source": [
    "flights.shape[1]"
   ]
  },
  {
   "cell_type": "code",
   "execution_count": null,
   "metadata": {},
   "outputs": [],
   "source": [
    "flights = flights.drop('FLIGHT_NUMBER', 1)"
   ]
  },
  {
   "cell_type": "code",
   "execution_count": null,
   "metadata": {},
   "outputs": [],
   "source": [
    "flights.shape[1]"
   ]
  },
  {
   "cell_type": "markdown",
   "metadata": {},
   "source": [
    "Ponownie przyjrzyjmy się statystykom, nie zaprzątając już sobie głowy usuniętą kolumną."
   ]
  },
  {
   "cell_type": "code",
   "execution_count": null,
   "metadata": {},
   "outputs": [],
   "source": [
    "flights.head()"
   ]
  },
  {
   "cell_type": "code",
   "execution_count": null,
   "metadata": {
    "scrolled": true
   },
   "outputs": [],
   "source": [
    "flights.loc[:,'AIRLINE':'WEATHER_DELAY'].describe()"
   ]
  },
  {
   "cell_type": "markdown",
   "metadata": {},
   "source": [
    "Najwyższa pora na analizę kolumn opisujących długość opóźnienia wynikająca z konkretnego powodu. Mamy 5 takich kolumn: WEATHER_DELAY, AIR_SYSTEM_DELAY, SECURITY_DELAY, AIRLINE_DELAY, LATE_AIRCRAFT_DELAY."
   ]
  },
  {
   "cell_type": "markdown",
   "metadata": {},
   "source": [
    "Początkowo sprawdziliśmy, że w zbiorze dla 1963672 wierszy brakowało wartości w tych kolumnach. Oznacza to, że w prawie 82% przypadków nie posiadamy wiedzy na temat wartości w omawianych pięciu kolumnach. To że tych danych nie posiadamy, zdecydowanie nie oznacza, że wartości w tych miejscach byłyby zerowe (do czego wcześniej doprowadziliśmy poprzez zamianę NaN na 0). Wydaje się więc, że do analizy wystarczy nam wynikowa kolumna ARRIVAL_DELAY, w której braki były bardzo rzadkie, a wiersze je zawierające zostały usunięte."
   ]
  },
  {
   "cell_type": "code",
   "execution_count": null,
   "metadata": {},
   "outputs": [],
   "source": [
    "flights.shape[1]"
   ]
  },
  {
   "cell_type": "code",
   "execution_count": null,
   "metadata": {},
   "outputs": [],
   "source": [
    "flights = flights.drop('WEATHER_DELAY', 1)\n",
    "flights = flights.drop('AIR_SYSTEM_DELAY', 1)\n",
    "flights = flights.drop('SECURITY_DELAY', 1)\n",
    "flights = flights.drop('AIRLINE_DELAY', 1)\n",
    "flights = flights.drop('LATE_AIRCRAFT_DELAY', 1)"
   ]
  },
  {
   "cell_type": "code",
   "execution_count": null,
   "metadata": {},
   "outputs": [],
   "source": [
    "flights.shape[1]"
   ]
  },
  {
   "cell_type": "markdown",
   "metadata": {},
   "source": [
    "W tym momencie zredukowaliśmy już liczbę kolumn do 22 (z pierwotnych 31)."
   ]
  },
  {
   "cell_type": "markdown",
   "metadata": {},
   "source": [
    "Przyjrzyjmy się teraz kolumnom opisującym czas. Przypomnijmy sobie ich opisy."
   ]
  },
  {
   "cell_type": "markdown",
   "metadata": {},
   "source": [
    "SCHEDULED_DEPARTURE -- Planned Departure Time\n",
    "\n",
    "DEPARTURE_TIME -- WHEEL_OFF - TAXI_OUT\n",
    "\n",
    "DEPARTURE_DELAY -- Total Delay on Departure\n",
    "\n",
    "TAXI_OUT -- The time duration elapsed between departure from the origin airport gate and wheels off\n",
    "\n",
    "WHEELS_OFF -- The time point that the aircraft's wheels leave the ground\n",
    "\n",
    "SCHEDULED_TIME -- Planned time amount needed for the flight trip\n",
    "\n",
    "ELAPSED_TIME -- AIR_TIME+TAXI_IN+TAXI_OUT\n",
    "\n",
    "AIR_TIME -- The time duration between wheels_off and wheels_on time\n",
    "\n",
    "WHEELS_ON -- The time point that the aircraft's wheels touch on the ground\n",
    "\n",
    "TAXI_IN -- The time duration elapsed between wheels-on and gate arrival at the destination airport\n",
    "\n",
    "SCHEDULED_ARRIVAL -- Planned arrival time\n",
    "\n",
    "ARRIVAL_TIME -- WHEELS_ON+TAXI_IN\n",
    "\n",
    "ARRIVAL_DELAY -- ARRIVAL_TIME-SCHEDULED_ARRIVAL"
   ]
  },
  {
   "cell_type": "markdown",
   "metadata": {},
   "source": [
    "Szczególnie przyjrzyjmy się TAXI_OUT/IN oraz WHEELS_OFF/ON. Pierwsza para cech opisuje czas pomiędzy wyjściem przez bramkę lotniska a oderwaniem się od powierzchni lotniska kół samolotu oraz czas między momentem lądowania samolotu a przejściem przez bramki wejściowe lotniska. Druga para cech opisuje punkt w czasie w którym koła samolotu oderwały się od powierzchni lotniska / zetknęły się z powierzchnią lotniska. Wymienione cechy TAXI_OUT/IN oraz WHEELS_OFF/ON są już zawarte w innych cechach i nie chcemy zajmować się tymi konkretnymi."
   ]
  },
  {
   "cell_type": "code",
   "execution_count": null,
   "metadata": {},
   "outputs": [],
   "source": [
    "flights.shape[1]"
   ]
  },
  {
   "cell_type": "code",
   "execution_count": null,
   "metadata": {},
   "outputs": [],
   "source": [
    "flights = flights.drop('TAXI_OUT', 1)\n",
    "flights = flights.drop('TAXI_IN', 1)\n",
    "flights = flights.drop('WHEELS_OFF', 1)\n",
    "flights = flights.drop('WHEELS_ON', 1)"
   ]
  },
  {
   "cell_type": "code",
   "execution_count": null,
   "metadata": {},
   "outputs": [],
   "source": [
    "flights.shape[1]"
   ]
  },
  {
   "cell_type": "markdown",
   "metadata": {},
   "source": [
    "Dane zdają się pochodzić w całości z roku 2015, sprawdźmy czy zaplątały się dane z innego roku."
   ]
  },
  {
   "cell_type": "code",
   "execution_count": null,
   "metadata": {},
   "outputs": [],
   "source": [
    "flights['YEAR'].value_counts()"
   ]
  },
  {
   "cell_type": "markdown",
   "metadata": {},
   "source": [
    "Jak widać, wszystkie dane są z roku 2015, w związku z tym cecha YEAR nie przekazuje nam rzadnej informacji."
   ]
  },
  {
   "cell_type": "code",
   "execution_count": null,
   "metadata": {},
   "outputs": [],
   "source": [
    "flights = flights.drop('YEAR', 1)\n",
    "flights.shape[1]"
   ]
  },
  {
   "cell_type": "markdown",
   "metadata": {},
   "source": [
    "Zostawimy jednak dane dotyczące miesiąca/dnia, gdyż na ich podstawie będziemy mogli poszukać ciekawych trendów (może opóźnienia są większe zimą?)."
   ]
  },
  {
   "cell_type": "code",
   "execution_count": null,
   "metadata": {
    "scrolled": true
   },
   "outputs": [],
   "source": [
    "flights.head()"
   ]
  },
  {
   "cell_type": "markdown",
   "metadata": {},
   "source": [
    "W tym momencie w zbiorze znajdują się dwie cechy opisujące opóźnienia - DEPARTURE_DELAY oraz ARRIVAL_DELAY. Pierwsza z nich opisuje opóźnienie przed odlotem, a druga opisuje opóźnienie po przylocie. Są to dwie zdecydowanie różne wartości, założyliśmy, że chcemy przewidywać ARRIVAL_DELAY, znając DEPARTURE_DELAY -- co oczywiście wydaje się być znacznym ułatwieniem, gdyż (co sprawdzimy przy analizie korelacji) najprawdopodobniej zmienne te mocno korelują ze sobą. Należy jednak zauważyć, że lot opóźniony przy odlocie może być potem na czas, gdyż samolot może nadrobić opóźnienie w locie, a także lot bez opóźnień przy odlocie może z jakiegoś powodu, chociażby poprzez tłok na lotnisku, zostać opóźniony później."
   ]
  },
  {
   "cell_type": "markdown",
   "metadata": {},
   "source": [
    "Zbadajmy kolumnę TAIL_NUMBER. Odnosi się ona do numeru konkretnego samolotu, w numerze tym znajduje się informacja o linii lotniczej (którą przechowujemy już w innej kolumnie)."
   ]
  },
  {
   "cell_type": "code",
   "execution_count": null,
   "metadata": {},
   "outputs": [],
   "source": [
    "flights['TAIL_NUMBER'].value_counts()"
   ]
  },
  {
   "cell_type": "code",
   "execution_count": null,
   "metadata": {},
   "outputs": [],
   "source": [
    "flights['TAIL_NUMBER'].nunique()"
   ]
  },
  {
   "cell_type": "markdown",
   "metadata": {},
   "source": [
    "Jak widzimy, niektóre samoloty pojawiają się w naszym zbiorze tysiące razy, a niektóre jedynie jednokrotnie. Na ten moment ciężko powiedzieć, czy jakieś samoloty mogą mieć skłonności do opóźnień, ale na razie nie usuwajmy tej kolumny. Możliwe, że niektore samoloty latają na dłuższych dystansach, co da nam prawdopodobnie większe szanse na dłuższe opóźnienia."
   ]
  },
  {
   "cell_type": "markdown",
   "metadata": {},
   "source": [
    "Sprawdźmy, z ilu różnych lotnisk wyruszały loty"
   ]
  },
  {
   "cell_type": "code",
   "execution_count": null,
   "metadata": {},
   "outputs": [],
   "source": [
    "flights['ORIGIN_AIRPORT'].nunique()"
   ]
  },
  {
   "cell_type": "markdown",
   "metadata": {},
   "source": [
    "Sprawdźmy, do ilu różnych lotnisk odbywały się loty"
   ]
  },
  {
   "cell_type": "code",
   "execution_count": null,
   "metadata": {},
   "outputs": [],
   "source": [
    "flights['DESTINATION_AIRPORT'].nunique()"
   ]
  },
  {
   "cell_type": "markdown",
   "metadata": {},
   "source": [
    "Co ciekawe, więcej jest różnych unikatowych wartości w kolumnie ORIGIN_AIRPORT niż dla cechy DESTINATION_AIRPORT."
   ]
  },
  {
   "cell_type": "markdown",
   "metadata": {},
   "source": [
    "Sprawdźmy, czy na pewno mamy dane z każdego miesiąca..."
   ]
  },
  {
   "cell_type": "code",
   "execution_count": null,
   "metadata": {},
   "outputs": [],
   "source": [
    "flights['MONTH'].nunique()"
   ]
  },
  {
   "cell_type": "markdown",
   "metadata": {},
   "source": [
    "...i dnia"
   ]
  },
  {
   "cell_type": "code",
   "execution_count": null,
   "metadata": {},
   "outputs": [],
   "source": [
    "flights['DAY'].nunique()"
   ]
  },
  {
   "cell_type": "markdown",
   "metadata": {},
   "source": [
    "Wszystko pod kontrolą, w tym momencie przypominamy sobie, że jeśli pracujemy na obciętych danych, to mamy dane nie z każdego dnia miesiąca"
   ]
  },
  {
   "cell_type": "code",
   "execution_count": null,
   "metadata": {},
   "outputs": [],
   "source": [
    "flights['DAY'].value_counts()"
   ]
  },
  {
   "cell_type": "markdown",
   "metadata": {},
   "source": [
    "------------------------"
   ]
  },
  {
   "cell_type": "markdown",
   "metadata": {},
   "source": [
    "## Dodanie lotnisk do analizy\n",
    "\n",
    "Następnym krokiem analizy jest dodanie lokalizacji do danych. Chcemy uwzględnić lotniska i spróbować dowiedzieć się, czy ma to wpływ na opóźnienie. Aby to zrobić dodamy dane z innego pliku który zawiera wszystkie lotniska.\n"
   ]
  },
  {
   "cell_type": "code",
   "execution_count": null,
   "metadata": {},
   "outputs": [],
   "source": [
    "airlines = pd.read_csv('airlines.csv')\n",
    "airlines"
   ]
  },
  {
   "cell_type": "code",
   "execution_count": null,
   "metadata": {},
   "outputs": [],
   "source": [
    "flights = flights.merge(airlines, left_on='AIRLINE', right_on='IATA_CODE', how='inner')"
   ]
  },
  {
   "cell_type": "code",
   "execution_count": null,
   "metadata": {},
   "outputs": [],
   "source": [
    "flights = flights.drop(['AIRLINE_x','IATA_CODE'], axis=1)\n",
    "flights = flights.rename(columns={\"AIRLINE_y\":\"AIRLINE\"})"
   ]
  },
  {
   "cell_type": "code",
   "execution_count": null,
   "metadata": {},
   "outputs": [],
   "source": [
    "flights.head()"
   ]
  },
  {
   "cell_type": "markdown",
   "metadata": {},
   "source": [
    "-----------------"
   ]
  },
  {
   "cell_type": "markdown",
   "metadata": {},
   "source": [
    "# Wizualizacje"
   ]
  },
  {
   "cell_type": "markdown",
   "metadata": {},
   "source": [
    "## Opóźnienia w zbiorze"
   ]
  },
  {
   "cell_type": "markdown",
   "metadata": {},
   "source": [
    "Przyjrzyjmy się opóźnieniom w zbiorze przedstawionym w bardziej obrazowy sposób."
   ]
  },
  {
   "cell_type": "code",
   "execution_count": null,
   "metadata": {},
   "outputs": [],
   "source": [
    "flights['ARRIVAL_DELAY'].describe()"
   ]
  },
  {
   "cell_type": "markdown",
   "metadata": {},
   "source": [
    "Powyżej przedstawiono podstawowe miary statystyczne dla naszej kolumny wynikowej. Wartości przedstawione sa w minutach. Jeśli wartości są ujemne, oznacza to, że pasażerowie dotarli na miejsce przed czasem. Średnio jednak pasażerowie docierali z niewielkim opóźnieniem."
   ]
  },
  {
   "cell_type": "code",
   "execution_count": null,
   "metadata": {},
   "outputs": [],
   "source": [
    "delayed = flights[flights['ARRIVAL_DELAY']>0]\n",
    "print(\"Lotów opóźnionych było %.2f\"%(delayed.shape[0]*100/flights.shape[0]))\n",
    "on_time = flights[flights['ARRIVAL_DELAY']==0]\n",
    "print(\"Lotów co do minuty na czas było %.2f\"%(on_time.shape[0]*100/flights.shape[0]))\n",
    "advanced = flights[flights['ARRIVAL_DELAY']<0]\n",
    "print(\"Lotów które zostały zakończone przed czasem było %.2f\"%(advanced.shape[0]*100/flights.shape[0]))"
   ]
  },
  {
   "cell_type": "code",
   "execution_count": null,
   "metadata": {},
   "outputs": [],
   "source": [
    "plt.boxplot(flights.loc[:, ['ARRIVAL_DELAY']].dropna().T, showfliers=False)\n",
    "plt.ylabel('czas opóźnienia')\n",
    "plt.title('ARRIVAL_DELAY')"
   ]
  },
  {
   "cell_type": "code",
   "execution_count": null,
   "metadata": {},
   "outputs": [],
   "source": [
    "plt.boxplot(flights.loc[:, ['ARRIVAL_DELAY']].dropna().T, showfliers=True)\n",
    "plt.ylabel('czas opóźnienia')\n",
    "plt.title('ARRIVAL_DELAY')"
   ]
  },
  {
   "cell_type": "markdown",
   "metadata": {},
   "source": [
    "Warto zauważyć oczywiste zależności: pomimo iż większość lotów jest nieznacznie przed czasem, to odchylenia od zera w stronę ujemną są niewielkie. Znacznie większe odchylenia mogą pojawiać się dla lotów opóźnionych."
   ]
  },
  {
   "cell_type": "markdown",
   "metadata": {},
   "source": [
    "-----------------"
   ]
  },
  {
   "cell_type": "markdown",
   "metadata": {},
   "source": [
    "# Sezonowość i trendy okresowe"
   ]
  },
  {
   "cell_type": "markdown",
   "metadata": {},
   "source": [
    "Ciekawą kwestią wydaje się być sprawdzenie sezonowości opóźnień w zależności od miesiąca/dnia tygodnia/dnia miesiąca."
   ]
  },
  {
   "cell_type": "markdown",
   "metadata": {},
   "source": [
    "Sprawdźmy czy w zależności od miesiąca zmieniają się średnie długości opóźnień"
   ]
  },
  {
   "cell_type": "code",
   "execution_count": null,
   "metadata": {},
   "outputs": [],
   "source": [
    "grouped_by_month = flights.loc[:,['ARRIVAL_DELAY','MONTH']].groupby(['MONTH']).mean()\n",
    "ax1 = plt.barh(grouped_by_month.index, grouped_by_month['ARRIVAL_DELAY'])\n",
    "ax1 = plt.title('Średnia długość opóźnienia w zależności od miesiąca')\n",
    "ax1 = plt.grid(True)\n",
    "plt.xlabel('Minuty opóźnienia')"
   ]
  },
  {
   "cell_type": "markdown",
   "metadata": {},
   "source": [
    "Wygląda na to, że w styczniu mamy do czynienia z największymi opóźnieniami. Da się to wytłumaczyć niesprzyjającymi warunkami atmosferycznymi."
   ]
  },
  {
   "cell_type": "markdown",
   "metadata": {},
   "source": [
    "Sprawdźmy średnie opóźnienie w zależności od dnia miesiąca. Nie spodziewam się różnic pomiędzy dniami, ale zobaczmy."
   ]
  },
  {
   "cell_type": "code",
   "execution_count": null,
   "metadata": {},
   "outputs": [],
   "source": [
    "grouped_by_day = flights.loc[:,['ARRIVAL_DELAY','DAY']].groupby(['DAY']).mean()\n",
    "ax1 = plt.barh(grouped_by_day.index, grouped_by_day['ARRIVAL_DELAY'])\n",
    "ax1 = plt.title('Średnia długość opóźnienia w zależności od dnia miesiąca')\n",
    "ax1 = plt.grid(True)\n",
    "plt.xlabel('Minuty opóźnienia')"
   ]
  },
  {
   "cell_type": "markdown",
   "metadata": {},
   "source": [
    "Wyniki są naprawdę zastanawiające. Grupowanie po dniu miesiąca zdaje się jednak mieć mniej sensu, niż grupowanie po dniu tygodnia. Na szczęście mamy także i cechę opisującą dzień tygodnia."
   ]
  },
  {
   "cell_type": "code",
   "execution_count": null,
   "metadata": {},
   "outputs": [],
   "source": [
    "grouped_by_day_of_week = flights.loc[:,['ARRIVAL_DELAY','DAY_OF_WEEK']].groupby(['DAY_OF_WEEK']).mean()\n",
    "ax1 = plt.barh(grouped_by_day_of_week.index, grouped_by_day_of_week['ARRIVAL_DELAY'])\n",
    "ax1 = plt.title('Średnia długość opóźnienia w zależności od dnia tygodnia')\n",
    "ax1 = plt.grid(True)\n",
    "plt.xlabel('Minuty opóźnienia')"
   ]
  },
  {
   "cell_type": "markdown",
   "metadata": {},
   "source": [
    "Ciekawe, że w naszym zbiorze ewidentnie najmniejsze opóźnienia (ba, średnio osiągające wartości ujemne) obserwujemy dla szóstego dnia tygodnia"
   ]
  },
  {
   "cell_type": "markdown",
   "metadata": {},
   "source": [
    "----------------"
   ]
  },
  {
   "cell_type": "markdown",
   "metadata": {},
   "source": [
    "Sprawdźmy jak przedstawia się liczba lotów w naszej bazie w zależności od dnia tygodnia, miesiąca."
   ]
  },
  {
   "cell_type": "code",
   "execution_count": null,
   "metadata": {},
   "outputs": [],
   "source": [
    "flights[\"MONTH\"].value_counts()"
   ]
  },
  {
   "cell_type": "markdown",
   "metadata": {},
   "source": [
    "W tym momencie przypominamy sobie, że ograniczyliśmy zbiór i dla każdego miesiąca posiadamy po 200000 obserwacji."
   ]
  },
  {
   "cell_type": "code",
   "execution_count": null,
   "metadata": {},
   "outputs": [],
   "source": [
    "flights[\"DAY\"].value_counts()"
   ]
  },
  {
   "cell_type": "markdown",
   "metadata": {},
   "source": [
    "Sprawdzając tę statystykę dla konkretnego dnia możemy odnaleźć wyjaśnienie mocnego odchylenia czternastego dnia miesiąca od pozostałych na wykresie 'Średnia długość opóźnienia w zależności od dnia miesiąca'. Danych z czternastego dnia miesiąca było po prostu niewiele, zauważalnie mniej danych wzieliśmy też z trzynastego dnia."
   ]
  },
  {
   "cell_type": "markdown",
   "metadata": {},
   "source": [
    "Na ten moment wydaje się, że kolumna informująca nas o konkretnym dniu miesiąca jest nam niepotrzebna - trendy okresowe zaobserwujemy dla cechy określającej który to dzień tygodnia, a to jaki dzień tygodnia przypada w dany dzień miesiąca jest zmienne. Oczywiście mogłoby się okazać że mamy do czynienia z ciekawą zależnością polegającą na tym, że opóźnienia, dajmy na to, są znaczne pod koniec miesiąca. Jest to jednak bardzo mało prawdopodobne, a w związku z tym że dla niektórych dni posiadamy nieproporcjonalnie mało danych, nasz model mógłby dla nich nauczyć się nierealnych zależności. Podsumowując, rezygnujemy z kolumny DAY."
   ]
  },
  {
   "cell_type": "code",
   "execution_count": null,
   "metadata": {},
   "outputs": [],
   "source": [
    "flights.shape[1]"
   ]
  },
  {
   "cell_type": "code",
   "execution_count": null,
   "metadata": {},
   "outputs": [],
   "source": [
    "flights = flights.drop('DAY', 1)"
   ]
  },
  {
   "cell_type": "code",
   "execution_count": null,
   "metadata": {},
   "outputs": [],
   "source": [
    "flights.shape[1]"
   ]
  },
  {
   "cell_type": "markdown",
   "metadata": {},
   "source": [
    "W końcu zobaczmy, jak prezentuje się liczba lotów w zależności od dnia tygodnia. Tutaj spodziewamy się już zauważalnej różnicy między dniami pracy a weekendami."
   ]
  },
  {
   "cell_type": "code",
   "execution_count": null,
   "metadata": {},
   "outputs": [],
   "source": [
    "flights[\"DAY_OF_WEEK\"].value_counts()"
   ]
  },
  {
   "cell_type": "code",
   "execution_count": null,
   "metadata": {},
   "outputs": [],
   "source": [
    "flights[\"DAY_OF_WEEK\"].value_counts().plot('bar')"
   ]
  },
  {
   "cell_type": "markdown",
   "metadata": {},
   "source": [
    "Zauważamy, że najwięcej lotów odbywa się czwartego i piątego dnia tygodnia, a najmniej szóstego. Z perspektywy modelu nie ma większego znaczenia, czy 7 oznacza niedzielę, ale nie udało nam się znaleźć informacji o tym, który dzień jest oznaczony w jaki sposób. Najprawdopodobniej 6 oznacza sobotę, w tej sytuacji wytłumaczalne byłoby to, iż jest wtedy mniej lotów (a najwięcej w czwartek, piątek i niedzielę). Pewna obserwacja jest tylko taka, iż jednego z dni tygodnia występuje zauważalny spadek liczby lotów."
   ]
  },
  {
   "cell_type": "markdown",
   "metadata": {},
   "source": [
    "------------"
   ]
  },
  {
   "cell_type": "markdown",
   "metadata": {},
   "source": [
    "## Analiza lotów w zależności od firmy"
   ]
  },
  {
   "cell_type": "markdown",
   "metadata": {},
   "source": [
    "Sprawdźmy, jakich linii najwięcej lotów zarejestrowano w naszym zbiorze"
   ]
  },
  {
   "cell_type": "code",
   "execution_count": null,
   "metadata": {},
   "outputs": [],
   "source": [
    "flights['AIRLINE'].value_counts()"
   ]
  },
  {
   "cell_type": "markdown",
   "metadata": {},
   "source": [
    "Sprawdźmy, jaka część danych dotyczy lotów daną linią."
   ]
  },
  {
   "cell_type": "code",
   "execution_count": null,
   "metadata": {},
   "outputs": [],
   "source": [
    "fig_dim = (14,18)\n",
    "f, ax = plt.subplots(figsize=fig_dim)\n",
    "quality=flights[\"AIRLINE\"].value_counts().keys().tolist()\n",
    "size=flights[\"AIRLINE\"].value_counts()\n",
    "\n",
    "plt.pie(size,labels=quality,autopct='%1.0f%%')\n",
    "plt.show()"
   ]
  },
  {
   "cell_type": "markdown",
   "metadata": {},
   "source": [
    "Jak możemy zaobserwować na powyższym diagramie, dwucyfrowe udziały w liczbie lotów w omawianym zbiorze posiada 5 linii, i są to Southwest Airlines (22%), Delta Air Lines (15%), American Airways (12%) oraz Skywest Lines i Atlantic Southeast Lines (obie po 10%.)"
   ]
  },
  {
   "cell_type": "markdown",
   "metadata": {},
   "source": [
    "## Analiza opóźnień w zależnosci od firmy"
   ]
  },
  {
   "cell_type": "markdown",
   "metadata": {},
   "source": [
    "Poniższy wykres prezentuje liczbę opóźnionych lotów danych linii lotniczych."
   ]
  },
  {
   "cell_type": "code",
   "execution_count": null,
   "metadata": {},
   "outputs": [],
   "source": [
    "flights['DELAYED'] = flights.loc[:,'ARRIVAL_DELAY'].values > 0\n",
    "figsize=plt.subplots(figsize=(10,12))\n",
    "sns.countplot(x='DELAYED',hue='AIRLINE',data=flights)\n",
    "plt.show()"
   ]
  },
  {
   "cell_type": "code",
   "execution_count": null,
   "metadata": {},
   "outputs": [],
   "source": [
    "sns.set(style=\"whitegrid\")\n",
    "\n",
    "fig_dim = (10,12)\n",
    "f, ax = plt.subplots(figsize=fig_dim)\n",
    "sns.despine(bottom=True, left=True)\n",
    "\n",
    "sns.stripplot(x=\"ARRIVAL_DELAY\", y=\"AIRLINE\", data=flights, dodge=True, jitter=True)\n",
    "plt.show()"
   ]
  },
  {
   "cell_type": "markdown",
   "metadata": {},
   "source": [
    "Powyższa dystrybucja pokazuje linie lotnicze w porównaniu do ich ARRIVAL_DELAY. To wyraźnie pokazuje, że American Airlines ma szeroki zakres opóźnień. Zwróćmy uwagę na fakt, iż linie lotnicze są posortowane po liczbie lotów przedstawionych w zbiorze, czyli linie znajdujące się na wykresie wyżej, mają w zbiorze więcej dotyczących ich wierszy. Już na pierwszy rzut oka na naganę zasługują oprócz American Airlines także Delta Air Lines.\n",
    "\n",
    "Należy jednak na podstawie tego wykresu nie wyciągać dalekoidących wniosków, gdyż bardzo możliwe że część linii specjalizuje się w krótkich lotach, a część w długich -- najprawdopodobniej im dłuższa trasa, tym większa szansa na opóźnienia. Sprawdzimy tę hipotezę przy analizie korelacji."
   ]
  },
  {
   "cell_type": "markdown",
   "metadata": {},
   "source": [
    "-----------------"
   ]
  },
  {
   "cell_type": "markdown",
   "metadata": {},
   "source": [
    "## Korelacja cech\n",
    "\n",
    "Głównym celem jest zidentyfikowanie cech wpływających na ARRIVAL_DELAY w pozytywny lub negatywny sposób."
   ]
  },
  {
   "cell_type": "code",
   "execution_count": null,
   "metadata": {},
   "outputs": [],
   "source": [
    "del_corr =flights.corr()\n",
    "f, ax = plt.subplots(figsize=(20, 20))\n",
    "sns.heatmap(del_corr,annot=True)\n",
    "plt.show()"
   ]
  },
  {
   "cell_type": "markdown",
   "metadata": {},
   "source": [
    "Jak widzimy, na wykresie możemy zaobserwować kilka mocnych korelacji. Z naszą cechą wynikową koreluje najmocniej cecha DEPARTURE_DELAY - jest to dość oczywiste, że opóźnienie przed odlotem ma silną korelację z opóźnieniem po przylocie.\n",
    "\n",
    "Pozostałe mocne korelacje są dość oczywiste - im większy dystans, tym dłuższy lot, a samolot dłużej znajduje się wtedy w powietrzu.\n",
    "\n",
    "Jasne wydaje się także to, że nie obserwujemy korelacji liniowej między miesiącem/dniem tygodnia a długością opóźnienia, ale postaramy się tutaj wyszukać jakieś nieliniowe zazleżności."
   ]
  },
  {
   "cell_type": "markdown",
   "metadata": {},
   "source": [
    "# Wnioski"
   ]
  },
  {
   "cell_type": "markdown",
   "metadata": {},
   "source": [
    "Wiele pomniejszych wniosków i rozważań umieszczono powyżej. W tym miejscu skupimy się na podsumowaniu analizy eksploracyjnej."
   ]
  },
  {
   "cell_type": "markdown",
   "metadata": {},
   "source": [
    "* Prawdopodobnie lepsze wyniki model osiągnie, gdy wykorzystamy cały posiadany zbiór danych. Jednak aby ułatwić sobie analizę eksploracyjną, zdecydowano się na zredukowanie liczby wierszy w zbiorze i na takim zbiorze danych będą przeprowadzane prace nad zbudowaniem modelu regresji.\n",
    "* Zdecydowano się na zrezygnowanie z wzięcia pod uwagę przy dalszej pracy wielu cech, gdyż wydawały się one nieprzydatne lub były zawarte w innych cechach. Możliwe, że podczas dalszej pracy nad projektem, zmieni się jeszcze struktura danych (to znaczy możliwe, że niektóre cechy powrócą, a niektóre z nadal obecnych zostaną usunięte).\n",
    "* Przedstawienie niektórych informacji na wykresach różnego typu daje łatwiejszy do zrozumienia obraz problemu niż tylko przedstawienie miar statystycznych.\n",
    "* Analiza liniowych korelacji między cechami nie przyniosła zbyt wielu wniosków. W ramce danych znajduje się kilka cech bardzo silnie korelujących, które na dalszym etapie projektu możliwe że zostaną połączone w jedną cechę.\n",
    "* Wybrany temat projektu wydaje się być ciekawy, a przy realizacji projektu możemy poszerzyć swoją wiedzę także z zakresu znajomości branżyu lotniczej. Jedną z poznanych ciekawostek jest fakt, iż w soboty odbywa się najmniej lotów (najpierw taka obserwacja wyniknęła z wykresu, potem sprawdzono w internecie, że jest to prawdziwe zjawisko)."
   ]
  },
  {
   "cell_type": "markdown",
   "metadata": {},
   "source": [
    "# Hipoteza badawcza\n",
    "\n",
    "Na podstawie przeprowadzonej analizy eksploracyjnej możemy wysnuć hipotezę mówiącą, że na podstawie  bazowych danych dotyczących lotu, a w tym informacji o opóźnieniu przed odlotem, można oszacować długość ostatecznego opóźnienia lotu (w tym jego brak lub ujemną wartość charakterystyczną dla lotów zrealizowanych przed planowym czasem przylotu), a znajomość  wyników takiej predykcji dla różnych linii samolotowych może pomóc w wyborze linii lotniczej."
   ]
  },
  {
   "cell_type": "markdown",
   "metadata": {},
   "source": [
    "### Zapisanie ramki danych do pliku csv"
   ]
  },
  {
   "cell_type": "code",
   "execution_count": null,
   "metadata": {},
   "outputs": [],
   "source": [
    "flights.to_csv(\"flights_explored.csv\",encoding='utf-8',index=False)"
   ]
  }
 ],
 "metadata": {
  "kernelspec": {
   "display_name": "Python 3",
   "language": "python",
   "name": "python3"
  },
  "language_info": {
   "codemirror_mode": {
    "name": "ipython",
    "version": 2
   },
   "file_extension": ".py",
   "mimetype": "text/x-python",
   "name": "python",
   "nbconvert_exporter": "python",
   "pygments_lexer": "ipython2",
   "version": "2.7.15+"
  }
 },
 "nbformat": 4,
 "nbformat_minor": 1
}
